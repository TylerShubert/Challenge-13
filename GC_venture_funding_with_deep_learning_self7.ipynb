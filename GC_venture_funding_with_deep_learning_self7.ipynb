{
  "cells": [
    {
      "cell_type": "code",
      "execution_count": null,
      "metadata": {},
      "outputs": [],
      "source": []
    },
    {
      "cell_type": "code",
      "execution_count": null,
      "metadata": {},
      "outputs": [],
      "source": []
    },
    {
      "cell_type": "markdown",
      "metadata": {
        "id": "JmEcaJzVURr_"
      },
      "source": [
        "# Venture Funding with Deep Learning\n",
        "\n",
        "You work as a risk management associate at Alphabet Soup, a venture capital firm. Alphabet Soup’s business team receives many funding applications from startups every day. This team has asked you to help them create a model that predicts whether applicants will be successful if funded by Alphabet Soup.\n",
        "\n",
        "The business team has given you a CSV containing more than 34,000 organizations that have received funding from Alphabet Soup over the years. With your knowledge of machine learning and neural networks, you decide to use the features in the provided dataset to create a binary classifier model that will predict whether an applicant will become a successful business. The CSV file contains a variety of information about these businesses, including whether or not they ultimately became successful.\n",
        "\n",
        "## Instructions:\n",
        "\n",
        "The steps for this challenge are broken out into the following sections:\n",
        "\n",
        "* Prepare the data for use on a neural network model.\n",
        "\n",
        "* Compile and evaluate a binary classification model using a neural network.\n",
        "\n",
        "* Optimize the neural network model.\n",
        "\n",
        "### Prepare the Data for Use on a Neural Network Model \n",
        "\n",
        "Using your knowledge of Pandas and scikit-learn’s `StandardScaler()`, preprocess the dataset so that you can use it to compile and evaluate the neural network model later.\n",
        "\n",
        "Open the starter code file, and complete the following data preparation steps:\n",
        "\n",
        "1. Read the `applicants_data.csv` file into a Pandas DataFrame. Review the DataFrame, looking for categorical variables that will need to be encoded, as well as columns that could eventually define your features and target variables.   \n",
        "\n",
        "2. Drop the “EIN” (Employer Identification Number) and “NAME” columns from the DataFrame, because they are not relevant to the binary classification model.\n",
        " \n",
        "3. Encode the dataset’s categorical variables using `OneHotEncoder`, and then place the encoded variables into a new DataFrame.\n",
        "\n",
        "4. Add the original DataFrame’s numerical variables to the DataFrame containing the encoded variables.\n",
        "\n",
        "> **Note** To complete this step, you will employ the Pandas `concat()` function that was introduced earlier in this course. \n",
        "\n",
        "5. Using the preprocessed data, create the features (`X`) and target (`y`) datasets. The target dataset should be defined by the preprocessed DataFrame column “IS_SUCCESSFUL”. The remaining columns should define the features dataset. \n",
        "\n",
        "6. Split the features and target sets into training and testing datasets.\n",
        "\n",
        "7. Use scikit-learn's `StandardScaler` to scale the features data.\n",
        "\n",
        "### Compile and Evaluate a Binary Classification Model Using a Neural Network\n",
        "\n",
        "Use your knowledge of TensorFlow to design a binary classification deep neural network model. This model should use the dataset’s features to predict whether an Alphabet Soup&ndash;funded startup will be successful based on the features in the dataset. Consider the number of inputs before determining the number of layers that your model will contain or the number of neurons on each layer. Then, compile and fit your model. Finally, evaluate your binary classification model to calculate the model’s loss and accuracy. \n",
        " \n",
        "To do so, complete the following steps:\n",
        "\n",
        "1. Create a deep neural network by assigning the number of input features, the number of layers, and the number of neurons on each layer using Tensorflow’s Keras.\n",
        "\n",
        "> **Hint** You can start with a two-layer deep neural network model that uses the `relu` activation function for both layers.\n",
        "\n",
        "2. Compile and fit the model using the `binary_crossentropy` loss function, the `adam` optimizer, and the `accuracy` evaluation metric.\n",
        "\n",
        "> **Hint** When fitting the model, start with a small number of epochs, such as 20, 50, or 100.\n",
        "\n",
        "3. Evaluate the model using the test data to determine the model’s loss and accuracy.\n",
        "\n",
        "4. Save and export your model to an HDF5 file, and name the file `AlphabetSoup.h5`. \n",
        "\n",
        "### Optimize the Neural Network Model\n",
        "\n",
        "Using your knowledge of TensorFlow and Keras, optimize your model to improve the model's accuracy. Even if you do not successfully achieve a better accuracy, you'll need to demonstrate at least two attempts to optimize the model. You can include these attempts in your existing notebook. Or, you can make copies of the starter notebook in the same folder, rename them, and code each model optimization in a new notebook. \n",
        "\n",
        "> **Note** You will not lose points if your model does not achieve a high accuracy, as long as you make at least two attempts to optimize the model.\n",
        "\n",
        "To do so, complete the following steps:\n",
        "\n",
        "1. Define at least three new deep neural network models (the original plus 2 optimization attempts). With each, try to improve on your first model’s predictive accuracy.\n",
        "\n",
        "> **Rewind** Recall that perfect accuracy has a value of 1, so accuracy improves as its value moves closer to 1. To optimize your model for a predictive accuracy as close to 1 as possible, you can use any or all of the following techniques:\n",
        ">\n",
        "> * Adjust the input data by dropping different features columns to ensure that no variables or outliers confuse the model.\n",
        ">\n",
        "> * Add more neurons (nodes) to a hidden layer.\n",
        ">\n",
        "> * Add more hidden layers.\n",
        ">\n",
        "> * Use different activation functions for the hidden layers.\n",
        ">\n",
        "> * Add to or reduce the number of epochs in the training regimen.\n",
        "\n",
        "2. After finishing your models, display the accuracy scores achieved by each model, and compare the results.\n",
        "\n",
        "3. Save each of your models as an HDF5 file.\n"
      ]
    },
    {
      "cell_type": "code",
      "execution_count": 1,
      "metadata": {
        "id": "6XiL4BeyURsD"
      },
      "outputs": [],
      "source": [
        "# Imports\n",
        "import pandas as pd\n",
        "import tensorflow as tf\n",
        "from tensorflow.keras.layers import Dense\n",
        "from tensorflow.keras.models import Sequential\n",
        "from sklearn.model_selection import train_test_split\n",
        "from sklearn.preprocessing import StandardScaler,OneHotEncoder"
      ]
    },
    {
      "cell_type": "markdown",
      "metadata": {
        "id": "JzvfMq--URsD"
      },
      "source": [
        "---\n",
        "\n",
        "## Prepare the data to be used on a neural network model"
      ]
    },
    {
      "cell_type": "markdown",
      "metadata": {
        "id": "pJWhWy1zURsE"
      },
      "source": [
        "### Step 1: Read the `applicants_data.csv` file into a Pandas DataFrame. Review the DataFrame, looking for categorical variables that will need to be encoded, as well as columns that could eventually define your features and target variables.  \n"
      ]
    },
    {
      "cell_type": "code",
      "execution_count": 2,
      "metadata": {
        "id": "5GsFRRuGU9r-"
      },
      "outputs": [],
      "source": [
        "# Upload credit_card_transactions.csv to Colab\n",
        "#from google.colab import files\n",
        "\n",
        "#csv_file = files.upload()"
      ]
    },
    {
      "cell_type": "code",
      "execution_count": 3,
      "metadata": {
        "id": "gSTFDSzYURsE"
      },
      "outputs": [
        {
          "data": {
            "text/html": [
              "<div>\n",
              "<style scoped>\n",
              "    .dataframe tbody tr th:only-of-type {\n",
              "        vertical-align: middle;\n",
              "    }\n",
              "\n",
              "    .dataframe tbody tr th {\n",
              "        vertical-align: top;\n",
              "    }\n",
              "\n",
              "    .dataframe thead th {\n",
              "        text-align: right;\n",
              "    }\n",
              "</style>\n",
              "<table border=\"1\" class=\"dataframe\">\n",
              "  <thead>\n",
              "    <tr style=\"text-align: right;\">\n",
              "      <th></th>\n",
              "      <th>EIN</th>\n",
              "      <th>NAME</th>\n",
              "      <th>APPLICATION_TYPE</th>\n",
              "      <th>AFFILIATION</th>\n",
              "      <th>CLASSIFICATION</th>\n",
              "      <th>USE_CASE</th>\n",
              "      <th>ORGANIZATION</th>\n",
              "      <th>STATUS</th>\n",
              "      <th>INCOME_AMT</th>\n",
              "      <th>SPECIAL_CONSIDERATIONS</th>\n",
              "      <th>ASK_AMT</th>\n",
              "      <th>IS_SUCCESSFUL</th>\n",
              "    </tr>\n",
              "  </thead>\n",
              "  <tbody>\n",
              "    <tr>\n",
              "      <th>34294</th>\n",
              "      <td>996009318</td>\n",
              "      <td>THE LIONS CLUB OF HONOLULU KAMEHAMEHA</td>\n",
              "      <td>T4</td>\n",
              "      <td>Independent</td>\n",
              "      <td>C1000</td>\n",
              "      <td>ProductDev</td>\n",
              "      <td>Association</td>\n",
              "      <td>1</td>\n",
              "      <td>0</td>\n",
              "      <td>N</td>\n",
              "      <td>5000</td>\n",
              "      <td>0</td>\n",
              "    </tr>\n",
              "    <tr>\n",
              "      <th>34295</th>\n",
              "      <td>996010315</td>\n",
              "      <td>INTERNATIONAL ASSOCIATION OF LIONS CLUBS</td>\n",
              "      <td>T4</td>\n",
              "      <td>CompanySponsored</td>\n",
              "      <td>C3000</td>\n",
              "      <td>ProductDev</td>\n",
              "      <td>Association</td>\n",
              "      <td>1</td>\n",
              "      <td>0</td>\n",
              "      <td>N</td>\n",
              "      <td>5000</td>\n",
              "      <td>0</td>\n",
              "    </tr>\n",
              "    <tr>\n",
              "      <th>34296</th>\n",
              "      <td>996012607</td>\n",
              "      <td>PTA HAWAII CONGRESS</td>\n",
              "      <td>T3</td>\n",
              "      <td>CompanySponsored</td>\n",
              "      <td>C2000</td>\n",
              "      <td>Preservation</td>\n",
              "      <td>Association</td>\n",
              "      <td>1</td>\n",
              "      <td>0</td>\n",
              "      <td>N</td>\n",
              "      <td>5000</td>\n",
              "      <td>0</td>\n",
              "    </tr>\n",
              "    <tr>\n",
              "      <th>34297</th>\n",
              "      <td>996015768</td>\n",
              "      <td>AMERICAN FEDERATION OF GOVERNMENT EMPLOYEES LO...</td>\n",
              "      <td>T5</td>\n",
              "      <td>Independent</td>\n",
              "      <td>C3000</td>\n",
              "      <td>ProductDev</td>\n",
              "      <td>Association</td>\n",
              "      <td>1</td>\n",
              "      <td>0</td>\n",
              "      <td>N</td>\n",
              "      <td>5000</td>\n",
              "      <td>1</td>\n",
              "    </tr>\n",
              "    <tr>\n",
              "      <th>34298</th>\n",
              "      <td>996086871</td>\n",
              "      <td>WATERHOUSE CHARITABLE TR</td>\n",
              "      <td>T3</td>\n",
              "      <td>Independent</td>\n",
              "      <td>C1000</td>\n",
              "      <td>Preservation</td>\n",
              "      <td>Co-operative</td>\n",
              "      <td>1</td>\n",
              "      <td>1M-5M</td>\n",
              "      <td>N</td>\n",
              "      <td>36500179</td>\n",
              "      <td>0</td>\n",
              "    </tr>\n",
              "  </tbody>\n",
              "</table>\n",
              "</div>"
            ],
            "text/plain": [
              "             EIN                                               NAME  \\\n",
              "34294  996009318              THE LIONS CLUB OF HONOLULU KAMEHAMEHA   \n",
              "34295  996010315           INTERNATIONAL ASSOCIATION OF LIONS CLUBS   \n",
              "34296  996012607                                PTA HAWAII CONGRESS   \n",
              "34297  996015768  AMERICAN FEDERATION OF GOVERNMENT EMPLOYEES LO...   \n",
              "34298  996086871                           WATERHOUSE CHARITABLE TR   \n",
              "\n",
              "      APPLICATION_TYPE       AFFILIATION CLASSIFICATION      USE_CASE  \\\n",
              "34294               T4       Independent          C1000    ProductDev   \n",
              "34295               T4  CompanySponsored          C3000    ProductDev   \n",
              "34296               T3  CompanySponsored          C2000  Preservation   \n",
              "34297               T5       Independent          C3000    ProductDev   \n",
              "34298               T3       Independent          C1000  Preservation   \n",
              "\n",
              "       ORGANIZATION  STATUS INCOME_AMT SPECIAL_CONSIDERATIONS   ASK_AMT  \\\n",
              "34294   Association       1          0                      N      5000   \n",
              "34295   Association       1          0                      N      5000   \n",
              "34296   Association       1          0                      N      5000   \n",
              "34297   Association       1          0                      N      5000   \n",
              "34298  Co-operative       1      1M-5M                      N  36500179   \n",
              "\n",
              "       IS_SUCCESSFUL  \n",
              "34294              0  \n",
              "34295              0  \n",
              "34296              0  \n",
              "34297              1  \n",
              "34298              0  "
            ]
          },
          "execution_count": 3,
          "metadata": {},
          "output_type": "execute_result"
        }
      ],
      "source": [
        "# Read the applicants_data.csv file from the Resources folder into a Pandas DataFrame\n",
        "applicant_data_df = pd.read_csv(\"./Resources/applicants_data.csv\")\n",
        "\n",
        "\n",
        "# Review the DataFrame\n",
        "applicant_data_df.head()\n",
        "applicant_data_df.tail()    "
      ]
    },
    {
      "cell_type": "code",
      "execution_count": 4,
      "metadata": {
        "id": "C-WB0yc4URsE"
      },
      "outputs": [
        {
          "data": {
            "text/plain": [
              "EIN                        int64\n",
              "NAME                      object\n",
              "APPLICATION_TYPE          object\n",
              "AFFILIATION               object\n",
              "CLASSIFICATION            object\n",
              "USE_CASE                  object\n",
              "ORGANIZATION              object\n",
              "STATUS                     int64\n",
              "INCOME_AMT                object\n",
              "SPECIAL_CONSIDERATIONS    object\n",
              "ASK_AMT                    int64\n",
              "IS_SUCCESSFUL              int64\n",
              "dtype: object"
            ]
          },
          "execution_count": 4,
          "metadata": {},
          "output_type": "execute_result"
        }
      ],
      "source": [
        "# Review the data types associated with the columns\n",
        "applicant_data_df.dtypes\n"
      ]
    },
    {
      "cell_type": "markdown",
      "metadata": {
        "id": "XCwg3ahTURsE"
      },
      "source": [
        "### Step 2: Drop the “EIN” (Employer Identification Number) and “NAME” columns from the DataFrame, because they are not relevant to the binary classification model."
      ]
    },
    {
      "cell_type": "code",
      "execution_count": 5,
      "metadata": {
        "id": "dj7yoYaAURsE"
      },
      "outputs": [
        {
          "data": {
            "text/html": [
              "<div>\n",
              "<style scoped>\n",
              "    .dataframe tbody tr th:only-of-type {\n",
              "        vertical-align: middle;\n",
              "    }\n",
              "\n",
              "    .dataframe tbody tr th {\n",
              "        vertical-align: top;\n",
              "    }\n",
              "\n",
              "    .dataframe thead th {\n",
              "        text-align: right;\n",
              "    }\n",
              "</style>\n",
              "<table border=\"1\" class=\"dataframe\">\n",
              "  <thead>\n",
              "    <tr style=\"text-align: right;\">\n",
              "      <th></th>\n",
              "      <th>APPLICATION_TYPE</th>\n",
              "      <th>AFFILIATION</th>\n",
              "      <th>CLASSIFICATION</th>\n",
              "      <th>USE_CASE</th>\n",
              "      <th>ORGANIZATION</th>\n",
              "      <th>STATUS</th>\n",
              "      <th>INCOME_AMT</th>\n",
              "      <th>SPECIAL_CONSIDERATIONS</th>\n",
              "      <th>ASK_AMT</th>\n",
              "      <th>IS_SUCCESSFUL</th>\n",
              "    </tr>\n",
              "  </thead>\n",
              "  <tbody>\n",
              "    <tr>\n",
              "      <th>34294</th>\n",
              "      <td>T4</td>\n",
              "      <td>Independent</td>\n",
              "      <td>C1000</td>\n",
              "      <td>ProductDev</td>\n",
              "      <td>Association</td>\n",
              "      <td>1</td>\n",
              "      <td>0</td>\n",
              "      <td>N</td>\n",
              "      <td>5000</td>\n",
              "      <td>0</td>\n",
              "    </tr>\n",
              "    <tr>\n",
              "      <th>34295</th>\n",
              "      <td>T4</td>\n",
              "      <td>CompanySponsored</td>\n",
              "      <td>C3000</td>\n",
              "      <td>ProductDev</td>\n",
              "      <td>Association</td>\n",
              "      <td>1</td>\n",
              "      <td>0</td>\n",
              "      <td>N</td>\n",
              "      <td>5000</td>\n",
              "      <td>0</td>\n",
              "    </tr>\n",
              "    <tr>\n",
              "      <th>34296</th>\n",
              "      <td>T3</td>\n",
              "      <td>CompanySponsored</td>\n",
              "      <td>C2000</td>\n",
              "      <td>Preservation</td>\n",
              "      <td>Association</td>\n",
              "      <td>1</td>\n",
              "      <td>0</td>\n",
              "      <td>N</td>\n",
              "      <td>5000</td>\n",
              "      <td>0</td>\n",
              "    </tr>\n",
              "    <tr>\n",
              "      <th>34297</th>\n",
              "      <td>T5</td>\n",
              "      <td>Independent</td>\n",
              "      <td>C3000</td>\n",
              "      <td>ProductDev</td>\n",
              "      <td>Association</td>\n",
              "      <td>1</td>\n",
              "      <td>0</td>\n",
              "      <td>N</td>\n",
              "      <td>5000</td>\n",
              "      <td>1</td>\n",
              "    </tr>\n",
              "    <tr>\n",
              "      <th>34298</th>\n",
              "      <td>T3</td>\n",
              "      <td>Independent</td>\n",
              "      <td>C1000</td>\n",
              "      <td>Preservation</td>\n",
              "      <td>Co-operative</td>\n",
              "      <td>1</td>\n",
              "      <td>1M-5M</td>\n",
              "      <td>N</td>\n",
              "      <td>36500179</td>\n",
              "      <td>0</td>\n",
              "    </tr>\n",
              "  </tbody>\n",
              "</table>\n",
              "</div>"
            ],
            "text/plain": [
              "      APPLICATION_TYPE       AFFILIATION CLASSIFICATION      USE_CASE  \\\n",
              "34294               T4       Independent          C1000    ProductDev   \n",
              "34295               T4  CompanySponsored          C3000    ProductDev   \n",
              "34296               T3  CompanySponsored          C2000  Preservation   \n",
              "34297               T5       Independent          C3000    ProductDev   \n",
              "34298               T3       Independent          C1000  Preservation   \n",
              "\n",
              "       ORGANIZATION  STATUS INCOME_AMT SPECIAL_CONSIDERATIONS   ASK_AMT  \\\n",
              "34294   Association       1          0                      N      5000   \n",
              "34295   Association       1          0                      N      5000   \n",
              "34296   Association       1          0                      N      5000   \n",
              "34297   Association       1          0                      N      5000   \n",
              "34298  Co-operative       1      1M-5M                      N  36500179   \n",
              "\n",
              "       IS_SUCCESSFUL  \n",
              "34294              0  \n",
              "34295              0  \n",
              "34296              0  \n",
              "34297              1  \n",
              "34298              0  "
            ]
          },
          "execution_count": 5,
          "metadata": {},
          "output_type": "execute_result"
        }
      ],
      "source": [
        "# Drop the 'EIN' and 'NAME' columns from the DataFrame\n",
        "applicant_data_df = applicant_data_df.drop(columns=['EIN','NAME'])\n",
        "\n",
        "# Review the DataFrame\n",
        "applicant_data_df.head()\n",
        "applicant_data_df.tail()"
      ]
    },
    {
      "cell_type": "markdown",
      "metadata": {
        "id": "WFF35NwZURsF"
      },
      "source": [
        "### Step 3: Encode the dataset’s categorical variables using `OneHotEncoder`, and then place the encoded variables into a new DataFrame."
      ]
    },
    {
      "cell_type": "code",
      "execution_count": 6,
      "metadata": {
        "id": "aHv_okM7URsF"
      },
      "outputs": [
        {
          "data": {
            "text/plain": [
              "['APPLICATION_TYPE',\n",
              " 'AFFILIATION',\n",
              " 'CLASSIFICATION',\n",
              " 'USE_CASE',\n",
              " 'ORGANIZATION',\n",
              " 'INCOME_AMT',\n",
              " 'SPECIAL_CONSIDERATIONS']"
            ]
          },
          "execution_count": 6,
          "metadata": {},
          "output_type": "execute_result"
        }
      ],
      "source": [
        "# Create a list of categorical variables \n",
        "categorical_variables = list(applicant_data_df.dtypes[applicant_data_df.dtypes == \"object\"].index)\n",
        "\n",
        "# Display the categorical variables list\n",
        "categorical_variables\n"
      ]
    },
    {
      "cell_type": "code",
      "execution_count": 7,
      "metadata": {
        "id": "IizC83_xURsF"
      },
      "outputs": [],
      "source": [
        "# Create a OneHotEncoder instance\n",
        "enc = OneHotEncoder(sparse=False)\n"
      ]
    },
    {
      "cell_type": "code",
      "execution_count": 8,
      "metadata": {
        "id": "fLUlCo48URsF"
      },
      "outputs": [],
      "source": [
        "# Encode the categorcal variables using OneHotEncoder\n",
        "encoded_data = enc.fit_transform(applicant_data_df[categorical_variables])"
      ]
    },
    {
      "cell_type": "code",
      "execution_count": 9,
      "metadata": {
        "id": "Bj-Hc08qURsF"
      },
      "outputs": [
        {
          "name": "stderr",
          "output_type": "stream",
          "text": [
            "c:\\Users\\think\\anaconda3\\envs\\dev\\lib\\site-packages\\sklearn\\utils\\deprecation.py:87: FutureWarning: Function get_feature_names is deprecated; get_feature_names is deprecated in 1.0 and will be removed in 1.2. Please use get_feature_names_out instead.\n",
            "  warnings.warn(msg, category=FutureWarning)\n"
          ]
        },
        {
          "data": {
            "text/html": [
              "<div>\n",
              "<style scoped>\n",
              "    .dataframe tbody tr th:only-of-type {\n",
              "        vertical-align: middle;\n",
              "    }\n",
              "\n",
              "    .dataframe tbody tr th {\n",
              "        vertical-align: top;\n",
              "    }\n",
              "\n",
              "    .dataframe thead th {\n",
              "        text-align: right;\n",
              "    }\n",
              "</style>\n",
              "<table border=\"1\" class=\"dataframe\">\n",
              "  <thead>\n",
              "    <tr style=\"text-align: right;\">\n",
              "      <th></th>\n",
              "      <th>APPLICATION_TYPE_T10</th>\n",
              "      <th>APPLICATION_TYPE_T12</th>\n",
              "      <th>APPLICATION_TYPE_T13</th>\n",
              "      <th>APPLICATION_TYPE_T14</th>\n",
              "      <th>APPLICATION_TYPE_T15</th>\n",
              "      <th>APPLICATION_TYPE_T17</th>\n",
              "      <th>APPLICATION_TYPE_T19</th>\n",
              "      <th>APPLICATION_TYPE_T2</th>\n",
              "      <th>APPLICATION_TYPE_T25</th>\n",
              "      <th>APPLICATION_TYPE_T29</th>\n",
              "      <th>...</th>\n",
              "      <th>INCOME_AMT_1-9999</th>\n",
              "      <th>INCOME_AMT_10000-24999</th>\n",
              "      <th>INCOME_AMT_100000-499999</th>\n",
              "      <th>INCOME_AMT_10M-50M</th>\n",
              "      <th>INCOME_AMT_1M-5M</th>\n",
              "      <th>INCOME_AMT_25000-99999</th>\n",
              "      <th>INCOME_AMT_50M+</th>\n",
              "      <th>INCOME_AMT_5M-10M</th>\n",
              "      <th>SPECIAL_CONSIDERATIONS_N</th>\n",
              "      <th>SPECIAL_CONSIDERATIONS_Y</th>\n",
              "    </tr>\n",
              "  </thead>\n",
              "  <tbody>\n",
              "    <tr>\n",
              "      <th>34294</th>\n",
              "      <td>0.0</td>\n",
              "      <td>0.0</td>\n",
              "      <td>0.0</td>\n",
              "      <td>0.0</td>\n",
              "      <td>0.0</td>\n",
              "      <td>0.0</td>\n",
              "      <td>0.0</td>\n",
              "      <td>0.0</td>\n",
              "      <td>0.0</td>\n",
              "      <td>0.0</td>\n",
              "      <td>...</td>\n",
              "      <td>0.0</td>\n",
              "      <td>0.0</td>\n",
              "      <td>0.0</td>\n",
              "      <td>0.0</td>\n",
              "      <td>0.0</td>\n",
              "      <td>0.0</td>\n",
              "      <td>0.0</td>\n",
              "      <td>0.0</td>\n",
              "      <td>1.0</td>\n",
              "      <td>0.0</td>\n",
              "    </tr>\n",
              "    <tr>\n",
              "      <th>34295</th>\n",
              "      <td>0.0</td>\n",
              "      <td>0.0</td>\n",
              "      <td>0.0</td>\n",
              "      <td>0.0</td>\n",
              "      <td>0.0</td>\n",
              "      <td>0.0</td>\n",
              "      <td>0.0</td>\n",
              "      <td>0.0</td>\n",
              "      <td>0.0</td>\n",
              "      <td>0.0</td>\n",
              "      <td>...</td>\n",
              "      <td>0.0</td>\n",
              "      <td>0.0</td>\n",
              "      <td>0.0</td>\n",
              "      <td>0.0</td>\n",
              "      <td>0.0</td>\n",
              "      <td>0.0</td>\n",
              "      <td>0.0</td>\n",
              "      <td>0.0</td>\n",
              "      <td>1.0</td>\n",
              "      <td>0.0</td>\n",
              "    </tr>\n",
              "    <tr>\n",
              "      <th>34296</th>\n",
              "      <td>0.0</td>\n",
              "      <td>0.0</td>\n",
              "      <td>0.0</td>\n",
              "      <td>0.0</td>\n",
              "      <td>0.0</td>\n",
              "      <td>0.0</td>\n",
              "      <td>0.0</td>\n",
              "      <td>0.0</td>\n",
              "      <td>0.0</td>\n",
              "      <td>0.0</td>\n",
              "      <td>...</td>\n",
              "      <td>0.0</td>\n",
              "      <td>0.0</td>\n",
              "      <td>0.0</td>\n",
              "      <td>0.0</td>\n",
              "      <td>0.0</td>\n",
              "      <td>0.0</td>\n",
              "      <td>0.0</td>\n",
              "      <td>0.0</td>\n",
              "      <td>1.0</td>\n",
              "      <td>0.0</td>\n",
              "    </tr>\n",
              "    <tr>\n",
              "      <th>34297</th>\n",
              "      <td>0.0</td>\n",
              "      <td>0.0</td>\n",
              "      <td>0.0</td>\n",
              "      <td>0.0</td>\n",
              "      <td>0.0</td>\n",
              "      <td>0.0</td>\n",
              "      <td>0.0</td>\n",
              "      <td>0.0</td>\n",
              "      <td>0.0</td>\n",
              "      <td>0.0</td>\n",
              "      <td>...</td>\n",
              "      <td>0.0</td>\n",
              "      <td>0.0</td>\n",
              "      <td>0.0</td>\n",
              "      <td>0.0</td>\n",
              "      <td>0.0</td>\n",
              "      <td>0.0</td>\n",
              "      <td>0.0</td>\n",
              "      <td>0.0</td>\n",
              "      <td>1.0</td>\n",
              "      <td>0.0</td>\n",
              "    </tr>\n",
              "    <tr>\n",
              "      <th>34298</th>\n",
              "      <td>0.0</td>\n",
              "      <td>0.0</td>\n",
              "      <td>0.0</td>\n",
              "      <td>0.0</td>\n",
              "      <td>0.0</td>\n",
              "      <td>0.0</td>\n",
              "      <td>0.0</td>\n",
              "      <td>0.0</td>\n",
              "      <td>0.0</td>\n",
              "      <td>0.0</td>\n",
              "      <td>...</td>\n",
              "      <td>0.0</td>\n",
              "      <td>0.0</td>\n",
              "      <td>0.0</td>\n",
              "      <td>0.0</td>\n",
              "      <td>1.0</td>\n",
              "      <td>0.0</td>\n",
              "      <td>0.0</td>\n",
              "      <td>0.0</td>\n",
              "      <td>1.0</td>\n",
              "      <td>0.0</td>\n",
              "    </tr>\n",
              "  </tbody>\n",
              "</table>\n",
              "<p>5 rows × 114 columns</p>\n",
              "</div>"
            ],
            "text/plain": [
              "       APPLICATION_TYPE_T10  APPLICATION_TYPE_T12  APPLICATION_TYPE_T13  \\\n",
              "34294                   0.0                   0.0                   0.0   \n",
              "34295                   0.0                   0.0                   0.0   \n",
              "34296                   0.0                   0.0                   0.0   \n",
              "34297                   0.0                   0.0                   0.0   \n",
              "34298                   0.0                   0.0                   0.0   \n",
              "\n",
              "       APPLICATION_TYPE_T14  APPLICATION_TYPE_T15  APPLICATION_TYPE_T17  \\\n",
              "34294                   0.0                   0.0                   0.0   \n",
              "34295                   0.0                   0.0                   0.0   \n",
              "34296                   0.0                   0.0                   0.0   \n",
              "34297                   0.0                   0.0                   0.0   \n",
              "34298                   0.0                   0.0                   0.0   \n",
              "\n",
              "       APPLICATION_TYPE_T19  APPLICATION_TYPE_T2  APPLICATION_TYPE_T25  \\\n",
              "34294                   0.0                  0.0                   0.0   \n",
              "34295                   0.0                  0.0                   0.0   \n",
              "34296                   0.0                  0.0                   0.0   \n",
              "34297                   0.0                  0.0                   0.0   \n",
              "34298                   0.0                  0.0                   0.0   \n",
              "\n",
              "       APPLICATION_TYPE_T29  ...  INCOME_AMT_1-9999  INCOME_AMT_10000-24999  \\\n",
              "34294                   0.0  ...                0.0                     0.0   \n",
              "34295                   0.0  ...                0.0                     0.0   \n",
              "34296                   0.0  ...                0.0                     0.0   \n",
              "34297                   0.0  ...                0.0                     0.0   \n",
              "34298                   0.0  ...                0.0                     0.0   \n",
              "\n",
              "       INCOME_AMT_100000-499999  INCOME_AMT_10M-50M  INCOME_AMT_1M-5M  \\\n",
              "34294                       0.0                 0.0               0.0   \n",
              "34295                       0.0                 0.0               0.0   \n",
              "34296                       0.0                 0.0               0.0   \n",
              "34297                       0.0                 0.0               0.0   \n",
              "34298                       0.0                 0.0               1.0   \n",
              "\n",
              "       INCOME_AMT_25000-99999  INCOME_AMT_50M+  INCOME_AMT_5M-10M  \\\n",
              "34294                     0.0              0.0                0.0   \n",
              "34295                     0.0              0.0                0.0   \n",
              "34296                     0.0              0.0                0.0   \n",
              "34297                     0.0              0.0                0.0   \n",
              "34298                     0.0              0.0                0.0   \n",
              "\n",
              "       SPECIAL_CONSIDERATIONS_N  SPECIAL_CONSIDERATIONS_Y  \n",
              "34294                       1.0                       0.0  \n",
              "34295                       1.0                       0.0  \n",
              "34296                       1.0                       0.0  \n",
              "34297                       1.0                       0.0  \n",
              "34298                       1.0                       0.0  \n",
              "\n",
              "[5 rows x 114 columns]"
            ]
          },
          "execution_count": 9,
          "metadata": {},
          "output_type": "execute_result"
        }
      ],
      "source": [
        "# Create a DataFrame with the encoded variables\n",
        "encoded_df = pd.DataFrame(\n",
        "    encoded_data,\n",
        "    columns = enc.get_feature_names(categorical_variables)\n",
        ")\n",
        "\n",
        "# Review the DataFrame\n",
        "encoded_df.head()\n",
        "encoded_df.tail()\n"
      ]
    },
    {
      "cell_type": "markdown",
      "metadata": {
        "id": "A8Bd0AQTURsF"
      },
      "source": [
        "### Step 4: Add the original DataFrame’s numerical variables to the DataFrame containing the encoded variables.\n",
        "\n",
        "> **Note** To complete this step, you will employ the Pandas `concat()` function that was introduced earlier in this course. "
      ]
    },
    {
      "cell_type": "code",
      "execution_count": 10,
      "metadata": {
        "id": "r43_PQpFURsG"
      },
      "outputs": [
        {
          "data": {
            "text/html": [
              "<div>\n",
              "<style scoped>\n",
              "    .dataframe tbody tr th:only-of-type {\n",
              "        vertical-align: middle;\n",
              "    }\n",
              "\n",
              "    .dataframe tbody tr th {\n",
              "        vertical-align: top;\n",
              "    }\n",
              "\n",
              "    .dataframe thead th {\n",
              "        text-align: right;\n",
              "    }\n",
              "</style>\n",
              "<table border=\"1\" class=\"dataframe\">\n",
              "  <thead>\n",
              "    <tr style=\"text-align: right;\">\n",
              "      <th></th>\n",
              "      <th>STATUS</th>\n",
              "      <th>ASK_AMT</th>\n",
              "      <th>IS_SUCCESSFUL</th>\n",
              "      <th>APPLICATION_TYPE_T10</th>\n",
              "      <th>APPLICATION_TYPE_T12</th>\n",
              "      <th>APPLICATION_TYPE_T13</th>\n",
              "      <th>APPLICATION_TYPE_T14</th>\n",
              "      <th>APPLICATION_TYPE_T15</th>\n",
              "      <th>APPLICATION_TYPE_T17</th>\n",
              "      <th>APPLICATION_TYPE_T19</th>\n",
              "      <th>...</th>\n",
              "      <th>INCOME_AMT_1-9999</th>\n",
              "      <th>INCOME_AMT_10000-24999</th>\n",
              "      <th>INCOME_AMT_100000-499999</th>\n",
              "      <th>INCOME_AMT_10M-50M</th>\n",
              "      <th>INCOME_AMT_1M-5M</th>\n",
              "      <th>INCOME_AMT_25000-99999</th>\n",
              "      <th>INCOME_AMT_50M+</th>\n",
              "      <th>INCOME_AMT_5M-10M</th>\n",
              "      <th>SPECIAL_CONSIDERATIONS_N</th>\n",
              "      <th>SPECIAL_CONSIDERATIONS_Y</th>\n",
              "    </tr>\n",
              "  </thead>\n",
              "  <tbody>\n",
              "    <tr>\n",
              "      <th>34294</th>\n",
              "      <td>1</td>\n",
              "      <td>5000</td>\n",
              "      <td>0</td>\n",
              "      <td>0.0</td>\n",
              "      <td>0.0</td>\n",
              "      <td>0.0</td>\n",
              "      <td>0.0</td>\n",
              "      <td>0.0</td>\n",
              "      <td>0.0</td>\n",
              "      <td>0.0</td>\n",
              "      <td>...</td>\n",
              "      <td>0.0</td>\n",
              "      <td>0.0</td>\n",
              "      <td>0.0</td>\n",
              "      <td>0.0</td>\n",
              "      <td>0.0</td>\n",
              "      <td>0.0</td>\n",
              "      <td>0.0</td>\n",
              "      <td>0.0</td>\n",
              "      <td>1.0</td>\n",
              "      <td>0.0</td>\n",
              "    </tr>\n",
              "    <tr>\n",
              "      <th>34295</th>\n",
              "      <td>1</td>\n",
              "      <td>5000</td>\n",
              "      <td>0</td>\n",
              "      <td>0.0</td>\n",
              "      <td>0.0</td>\n",
              "      <td>0.0</td>\n",
              "      <td>0.0</td>\n",
              "      <td>0.0</td>\n",
              "      <td>0.0</td>\n",
              "      <td>0.0</td>\n",
              "      <td>...</td>\n",
              "      <td>0.0</td>\n",
              "      <td>0.0</td>\n",
              "      <td>0.0</td>\n",
              "      <td>0.0</td>\n",
              "      <td>0.0</td>\n",
              "      <td>0.0</td>\n",
              "      <td>0.0</td>\n",
              "      <td>0.0</td>\n",
              "      <td>1.0</td>\n",
              "      <td>0.0</td>\n",
              "    </tr>\n",
              "    <tr>\n",
              "      <th>34296</th>\n",
              "      <td>1</td>\n",
              "      <td>5000</td>\n",
              "      <td>0</td>\n",
              "      <td>0.0</td>\n",
              "      <td>0.0</td>\n",
              "      <td>0.0</td>\n",
              "      <td>0.0</td>\n",
              "      <td>0.0</td>\n",
              "      <td>0.0</td>\n",
              "      <td>0.0</td>\n",
              "      <td>...</td>\n",
              "      <td>0.0</td>\n",
              "      <td>0.0</td>\n",
              "      <td>0.0</td>\n",
              "      <td>0.0</td>\n",
              "      <td>0.0</td>\n",
              "      <td>0.0</td>\n",
              "      <td>0.0</td>\n",
              "      <td>0.0</td>\n",
              "      <td>1.0</td>\n",
              "      <td>0.0</td>\n",
              "    </tr>\n",
              "    <tr>\n",
              "      <th>34297</th>\n",
              "      <td>1</td>\n",
              "      <td>5000</td>\n",
              "      <td>1</td>\n",
              "      <td>0.0</td>\n",
              "      <td>0.0</td>\n",
              "      <td>0.0</td>\n",
              "      <td>0.0</td>\n",
              "      <td>0.0</td>\n",
              "      <td>0.0</td>\n",
              "      <td>0.0</td>\n",
              "      <td>...</td>\n",
              "      <td>0.0</td>\n",
              "      <td>0.0</td>\n",
              "      <td>0.0</td>\n",
              "      <td>0.0</td>\n",
              "      <td>0.0</td>\n",
              "      <td>0.0</td>\n",
              "      <td>0.0</td>\n",
              "      <td>0.0</td>\n",
              "      <td>1.0</td>\n",
              "      <td>0.0</td>\n",
              "    </tr>\n",
              "    <tr>\n",
              "      <th>34298</th>\n",
              "      <td>1</td>\n",
              "      <td>36500179</td>\n",
              "      <td>0</td>\n",
              "      <td>0.0</td>\n",
              "      <td>0.0</td>\n",
              "      <td>0.0</td>\n",
              "      <td>0.0</td>\n",
              "      <td>0.0</td>\n",
              "      <td>0.0</td>\n",
              "      <td>0.0</td>\n",
              "      <td>...</td>\n",
              "      <td>0.0</td>\n",
              "      <td>0.0</td>\n",
              "      <td>0.0</td>\n",
              "      <td>0.0</td>\n",
              "      <td>1.0</td>\n",
              "      <td>0.0</td>\n",
              "      <td>0.0</td>\n",
              "      <td>0.0</td>\n",
              "      <td>1.0</td>\n",
              "      <td>0.0</td>\n",
              "    </tr>\n",
              "  </tbody>\n",
              "</table>\n",
              "<p>5 rows × 117 columns</p>\n",
              "</div>"
            ],
            "text/plain": [
              "       STATUS   ASK_AMT  IS_SUCCESSFUL  APPLICATION_TYPE_T10  \\\n",
              "34294       1      5000              0                   0.0   \n",
              "34295       1      5000              0                   0.0   \n",
              "34296       1      5000              0                   0.0   \n",
              "34297       1      5000              1                   0.0   \n",
              "34298       1  36500179              0                   0.0   \n",
              "\n",
              "       APPLICATION_TYPE_T12  APPLICATION_TYPE_T13  APPLICATION_TYPE_T14  \\\n",
              "34294                   0.0                   0.0                   0.0   \n",
              "34295                   0.0                   0.0                   0.0   \n",
              "34296                   0.0                   0.0                   0.0   \n",
              "34297                   0.0                   0.0                   0.0   \n",
              "34298                   0.0                   0.0                   0.0   \n",
              "\n",
              "       APPLICATION_TYPE_T15  APPLICATION_TYPE_T17  APPLICATION_TYPE_T19  ...  \\\n",
              "34294                   0.0                   0.0                   0.0  ...   \n",
              "34295                   0.0                   0.0                   0.0  ...   \n",
              "34296                   0.0                   0.0                   0.0  ...   \n",
              "34297                   0.0                   0.0                   0.0  ...   \n",
              "34298                   0.0                   0.0                   0.0  ...   \n",
              "\n",
              "       INCOME_AMT_1-9999  INCOME_AMT_10000-24999  INCOME_AMT_100000-499999  \\\n",
              "34294                0.0                     0.0                       0.0   \n",
              "34295                0.0                     0.0                       0.0   \n",
              "34296                0.0                     0.0                       0.0   \n",
              "34297                0.0                     0.0                       0.0   \n",
              "34298                0.0                     0.0                       0.0   \n",
              "\n",
              "       INCOME_AMT_10M-50M  INCOME_AMT_1M-5M  INCOME_AMT_25000-99999  \\\n",
              "34294                 0.0               0.0                     0.0   \n",
              "34295                 0.0               0.0                     0.0   \n",
              "34296                 0.0               0.0                     0.0   \n",
              "34297                 0.0               0.0                     0.0   \n",
              "34298                 0.0               1.0                     0.0   \n",
              "\n",
              "       INCOME_AMT_50M+  INCOME_AMT_5M-10M  SPECIAL_CONSIDERATIONS_N  \\\n",
              "34294              0.0                0.0                       1.0   \n",
              "34295              0.0                0.0                       1.0   \n",
              "34296              0.0                0.0                       1.0   \n",
              "34297              0.0                0.0                       1.0   \n",
              "34298              0.0                0.0                       1.0   \n",
              "\n",
              "       SPECIAL_CONSIDERATIONS_Y  \n",
              "34294                       0.0  \n",
              "34295                       0.0  \n",
              "34296                       0.0  \n",
              "34297                       0.0  \n",
              "34298                       0.0  \n",
              "\n",
              "[5 rows x 117 columns]"
            ]
          },
          "execution_count": 10,
          "metadata": {},
          "output_type": "execute_result"
        }
      ],
      "source": [
        "# Add the numerical variables from the original DataFrame to the one-hot encoding DataFrame\n",
        "encoded_df = pd.concat(\n",
        "    [\n",
        "        applicant_data_df[[\"STATUS\", \"ASK_AMT\", \"IS_SUCCESSFUL\"]],\n",
        "        encoded_df\n",
        "    ],\n",
        "    axis=1\n",
        ")\n",
        "\n",
        "\n",
        "# Review the Dataframe\n",
        "encoded_df.head()\n",
        "encoded_df.tail()\n"
      ]
    },
    {
      "cell_type": "markdown",
      "metadata": {
        "id": "RJHzn3uyURsG"
      },
      "source": [
        "### Step 5: Using the preprocessed data, create the features (`X`) and target (`y`) datasets. The target dataset should be defined by the preprocessed DataFrame column “IS_SUCCESSFUL”. The remaining columns should define the features dataset. \n",
        "\n"
      ]
    },
    {
      "cell_type": "code",
      "execution_count": 11,
      "metadata": {
        "id": "XpmWKy35URsG"
      },
      "outputs": [
        {
          "data": {
            "text/plain": [
              "0    1\n",
              "1    1\n",
              "2    0\n",
              "3    1\n",
              "4    1\n",
              "Name: IS_SUCCESSFUL, dtype: int64"
            ]
          },
          "execution_count": 11,
          "metadata": {},
          "output_type": "execute_result"
        }
      ],
      "source": [
        "# Define the target set y using the IS_SUCCESSFUL column\n",
        "y = encoded_df[\"IS_SUCCESSFUL\"]\n",
        "\n",
        "# Display a sample of y\n",
        "y[:5]\n"
      ]
    },
    {
      "cell_type": "code",
      "execution_count": 12,
      "metadata": {
        "id": "SzVEfRlaURsG"
      },
      "outputs": [
        {
          "data": {
            "text/html": [
              "<div>\n",
              "<style scoped>\n",
              "    .dataframe tbody tr th:only-of-type {\n",
              "        vertical-align: middle;\n",
              "    }\n",
              "\n",
              "    .dataframe tbody tr th {\n",
              "        vertical-align: top;\n",
              "    }\n",
              "\n",
              "    .dataframe thead th {\n",
              "        text-align: right;\n",
              "    }\n",
              "</style>\n",
              "<table border=\"1\" class=\"dataframe\">\n",
              "  <thead>\n",
              "    <tr style=\"text-align: right;\">\n",
              "      <th></th>\n",
              "      <th>STATUS</th>\n",
              "      <th>ASK_AMT</th>\n",
              "      <th>APPLICATION_TYPE_T10</th>\n",
              "      <th>APPLICATION_TYPE_T12</th>\n",
              "      <th>APPLICATION_TYPE_T13</th>\n",
              "      <th>APPLICATION_TYPE_T14</th>\n",
              "      <th>APPLICATION_TYPE_T15</th>\n",
              "      <th>APPLICATION_TYPE_T17</th>\n",
              "      <th>APPLICATION_TYPE_T19</th>\n",
              "      <th>APPLICATION_TYPE_T2</th>\n",
              "      <th>...</th>\n",
              "      <th>INCOME_AMT_1-9999</th>\n",
              "      <th>INCOME_AMT_10000-24999</th>\n",
              "      <th>INCOME_AMT_100000-499999</th>\n",
              "      <th>INCOME_AMT_10M-50M</th>\n",
              "      <th>INCOME_AMT_1M-5M</th>\n",
              "      <th>INCOME_AMT_25000-99999</th>\n",
              "      <th>INCOME_AMT_50M+</th>\n",
              "      <th>INCOME_AMT_5M-10M</th>\n",
              "      <th>SPECIAL_CONSIDERATIONS_N</th>\n",
              "      <th>SPECIAL_CONSIDERATIONS_Y</th>\n",
              "    </tr>\n",
              "  </thead>\n",
              "  <tbody>\n",
              "    <tr>\n",
              "      <th>0</th>\n",
              "      <td>1</td>\n",
              "      <td>5000</td>\n",
              "      <td>1.0</td>\n",
              "      <td>0.0</td>\n",
              "      <td>0.0</td>\n",
              "      <td>0.0</td>\n",
              "      <td>0.0</td>\n",
              "      <td>0.0</td>\n",
              "      <td>0.0</td>\n",
              "      <td>0.0</td>\n",
              "      <td>...</td>\n",
              "      <td>0.0</td>\n",
              "      <td>0.0</td>\n",
              "      <td>0.0</td>\n",
              "      <td>0.0</td>\n",
              "      <td>0.0</td>\n",
              "      <td>0.0</td>\n",
              "      <td>0.0</td>\n",
              "      <td>0.0</td>\n",
              "      <td>1.0</td>\n",
              "      <td>0.0</td>\n",
              "    </tr>\n",
              "    <tr>\n",
              "      <th>1</th>\n",
              "      <td>1</td>\n",
              "      <td>108590</td>\n",
              "      <td>0.0</td>\n",
              "      <td>0.0</td>\n",
              "      <td>0.0</td>\n",
              "      <td>0.0</td>\n",
              "      <td>0.0</td>\n",
              "      <td>0.0</td>\n",
              "      <td>0.0</td>\n",
              "      <td>0.0</td>\n",
              "      <td>...</td>\n",
              "      <td>1.0</td>\n",
              "      <td>0.0</td>\n",
              "      <td>0.0</td>\n",
              "      <td>0.0</td>\n",
              "      <td>0.0</td>\n",
              "      <td>0.0</td>\n",
              "      <td>0.0</td>\n",
              "      <td>0.0</td>\n",
              "      <td>1.0</td>\n",
              "      <td>0.0</td>\n",
              "    </tr>\n",
              "    <tr>\n",
              "      <th>2</th>\n",
              "      <td>1</td>\n",
              "      <td>5000</td>\n",
              "      <td>0.0</td>\n",
              "      <td>0.0</td>\n",
              "      <td>0.0</td>\n",
              "      <td>0.0</td>\n",
              "      <td>0.0</td>\n",
              "      <td>0.0</td>\n",
              "      <td>0.0</td>\n",
              "      <td>0.0</td>\n",
              "      <td>...</td>\n",
              "      <td>0.0</td>\n",
              "      <td>0.0</td>\n",
              "      <td>0.0</td>\n",
              "      <td>0.0</td>\n",
              "      <td>0.0</td>\n",
              "      <td>0.0</td>\n",
              "      <td>0.0</td>\n",
              "      <td>0.0</td>\n",
              "      <td>1.0</td>\n",
              "      <td>0.0</td>\n",
              "    </tr>\n",
              "    <tr>\n",
              "      <th>3</th>\n",
              "      <td>1</td>\n",
              "      <td>6692</td>\n",
              "      <td>0.0</td>\n",
              "      <td>0.0</td>\n",
              "      <td>0.0</td>\n",
              "      <td>0.0</td>\n",
              "      <td>0.0</td>\n",
              "      <td>0.0</td>\n",
              "      <td>0.0</td>\n",
              "      <td>0.0</td>\n",
              "      <td>...</td>\n",
              "      <td>0.0</td>\n",
              "      <td>1.0</td>\n",
              "      <td>0.0</td>\n",
              "      <td>0.0</td>\n",
              "      <td>0.0</td>\n",
              "      <td>0.0</td>\n",
              "      <td>0.0</td>\n",
              "      <td>0.0</td>\n",
              "      <td>1.0</td>\n",
              "      <td>0.0</td>\n",
              "    </tr>\n",
              "    <tr>\n",
              "      <th>4</th>\n",
              "      <td>1</td>\n",
              "      <td>142590</td>\n",
              "      <td>0.0</td>\n",
              "      <td>0.0</td>\n",
              "      <td>0.0</td>\n",
              "      <td>0.0</td>\n",
              "      <td>0.0</td>\n",
              "      <td>0.0</td>\n",
              "      <td>0.0</td>\n",
              "      <td>0.0</td>\n",
              "      <td>...</td>\n",
              "      <td>0.0</td>\n",
              "      <td>0.0</td>\n",
              "      <td>1.0</td>\n",
              "      <td>0.0</td>\n",
              "      <td>0.0</td>\n",
              "      <td>0.0</td>\n",
              "      <td>0.0</td>\n",
              "      <td>0.0</td>\n",
              "      <td>1.0</td>\n",
              "      <td>0.0</td>\n",
              "    </tr>\n",
              "  </tbody>\n",
              "</table>\n",
              "<p>5 rows × 116 columns</p>\n",
              "</div>"
            ],
            "text/plain": [
              "   STATUS  ASK_AMT  APPLICATION_TYPE_T10  APPLICATION_TYPE_T12  \\\n",
              "0       1     5000                   1.0                   0.0   \n",
              "1       1   108590                   0.0                   0.0   \n",
              "2       1     5000                   0.0                   0.0   \n",
              "3       1     6692                   0.0                   0.0   \n",
              "4       1   142590                   0.0                   0.0   \n",
              "\n",
              "   APPLICATION_TYPE_T13  APPLICATION_TYPE_T14  APPLICATION_TYPE_T15  \\\n",
              "0                   0.0                   0.0                   0.0   \n",
              "1                   0.0                   0.0                   0.0   \n",
              "2                   0.0                   0.0                   0.0   \n",
              "3                   0.0                   0.0                   0.0   \n",
              "4                   0.0                   0.0                   0.0   \n",
              "\n",
              "   APPLICATION_TYPE_T17  APPLICATION_TYPE_T19  APPLICATION_TYPE_T2  ...  \\\n",
              "0                   0.0                   0.0                  0.0  ...   \n",
              "1                   0.0                   0.0                  0.0  ...   \n",
              "2                   0.0                   0.0                  0.0  ...   \n",
              "3                   0.0                   0.0                  0.0  ...   \n",
              "4                   0.0                   0.0                  0.0  ...   \n",
              "\n",
              "   INCOME_AMT_1-9999  INCOME_AMT_10000-24999  INCOME_AMT_100000-499999  \\\n",
              "0                0.0                     0.0                       0.0   \n",
              "1                1.0                     0.0                       0.0   \n",
              "2                0.0                     0.0                       0.0   \n",
              "3                0.0                     1.0                       0.0   \n",
              "4                0.0                     0.0                       1.0   \n",
              "\n",
              "   INCOME_AMT_10M-50M  INCOME_AMT_1M-5M  INCOME_AMT_25000-99999  \\\n",
              "0                 0.0               0.0                     0.0   \n",
              "1                 0.0               0.0                     0.0   \n",
              "2                 0.0               0.0                     0.0   \n",
              "3                 0.0               0.0                     0.0   \n",
              "4                 0.0               0.0                     0.0   \n",
              "\n",
              "   INCOME_AMT_50M+  INCOME_AMT_5M-10M  SPECIAL_CONSIDERATIONS_N  \\\n",
              "0              0.0                0.0                       1.0   \n",
              "1              0.0                0.0                       1.0   \n",
              "2              0.0                0.0                       1.0   \n",
              "3              0.0                0.0                       1.0   \n",
              "4              0.0                0.0                       1.0   \n",
              "\n",
              "   SPECIAL_CONSIDERATIONS_Y  \n",
              "0                       0.0  \n",
              "1                       0.0  \n",
              "2                       0.0  \n",
              "3                       0.0  \n",
              "4                       0.0  \n",
              "\n",
              "[5 rows x 116 columns]"
            ]
          },
          "execution_count": 12,
          "metadata": {},
          "output_type": "execute_result"
        }
      ],
      "source": [
        "# Define features set X by selecting all columns but IS_SUCCESSFUL\n",
        "X = encoded_df.drop(columns=[\"IS_SUCCESSFUL\"])\n",
        "\n",
        "# Review the features DataFrame\n",
        "X[:5]"
      ]
    },
    {
      "cell_type": "markdown",
      "metadata": {
        "id": "Wgb0PFDKURsG"
      },
      "source": [
        "### Step 6: Split the features and target sets into training and testing datasets.\n"
      ]
    },
    {
      "cell_type": "code",
      "execution_count": 13,
      "metadata": {
        "colab": {
          "base_uri": "https://localhost:8080/",
          "height": 130
        },
        "id": "M_vGfjV4URsG",
        "outputId": "3e4d5433-5f56-45a7-8a68-ec877a10e6f2"
      },
      "outputs": [],
      "source": [
        "# Split the preprocessed data into a training and testing dataset\n",
        "# Assign the function a random_state equal to 1\n",
        "X_train, X_test, y_train, y_test = train_test_split(X, y, random_state=1)\n"
      ]
    },
    {
      "cell_type": "markdown",
      "metadata": {
        "id": "hDcNY8TGURsG"
      },
      "source": [
        "### Step 7: Use scikit-learn's `StandardScaler` to scale the features data."
      ]
    },
    {
      "cell_type": "code",
      "execution_count": 14,
      "metadata": {
        "id": "MWOH8vl-URsG"
      },
      "outputs": [],
      "source": [
        "\n",
        "\n",
        "# Create a StandardScaler instance\n",
        "scaler = StandardScaler()\n",
        "\n",
        "# Fit the scaler to the features training dataset\n",
        "X_scaler = scaler.fit(X_train)\n",
        "\n",
        "# Fit the scaler to the features training dataset\n",
        "X_train_scaled = X_scaler.transform(X_train)\n",
        "X_test_scaled = X_scaler.transform(X_test)\n"
      ]
    },
    {
      "cell_type": "markdown",
      "metadata": {
        "id": "RvE_rJAAURsH"
      },
      "source": [
        "---\n",
        "\n",
        "## Compile and Evaluate a Binary Classification Model Using a Neural Network"
      ]
    },
    {
      "cell_type": "markdown",
      "metadata": {
        "id": "mLD8vtTqURsH"
      },
      "source": [
        "### Step 1: Create a deep neural network by assigning the number of input features, the number of layers, and the number of neurons on each layer using Tensorflow’s Keras.\n",
        "\n",
        "> **Hint** You can start with a two-layer deep neural network model that uses the `relu` activation function for both layers.\n"
      ]
    },
    {
      "cell_type": "code",
      "execution_count": 15,
      "metadata": {
        "id": "K1Vgwz04URsH"
      },
      "outputs": [
        {
          "data": {
            "text/plain": [
              "116"
            ]
          },
          "execution_count": 15,
          "metadata": {},
          "output_type": "execute_result"
        }
      ],
      "source": [
        "# Define the the number of inputs (features) to the model\n",
        "number_input_features = len(X_train.iloc[0])\n",
        "\n",
        "# Review the number of features\n",
        "number_input_features\n"
      ]
    },
    {
      "cell_type": "code",
      "execution_count": 16,
      "metadata": {
        "id": "0mcgkl8SURsH"
      },
      "outputs": [],
      "source": [
        "# Define the number of neurons in the output layer\n",
        "number_output_neurons = 1"
      ]
    },
    {
      "cell_type": "code",
      "execution_count": 17,
      "metadata": {
        "id": "i0Q3iY3wURsH"
      },
      "outputs": [
        {
          "data": {
            "text/plain": [
              "18"
            ]
          },
          "execution_count": 17,
          "metadata": {},
          "output_type": "execute_result"
        }
      ],
      "source": [
        "# Define the number of hidden nodes for the first hidden layer\n",
        "hidden_nodes_layer1 =  18\n",
        "\n",
        "# Review the number hidden nodes in the first layer\n",
        "hidden_nodes_layer1\n"
      ]
    },
    {
      "cell_type": "code",
      "execution_count": 18,
      "metadata": {
        "id": "Ux_lAsrvURsH"
      },
      "outputs": [
        {
          "data": {
            "text/plain": [
              "8"
            ]
          },
          "execution_count": 18,
          "metadata": {},
          "output_type": "execute_result"
        }
      ],
      "source": [
        "# Define the number of hidden nodes for the second hidden layer\n",
        "hidden_nodes_layer2 =  8\n",
        "\n",
        "# Review the number hidden nodes in the second layer\n",
        "hidden_nodes_layer2\n"
      ]
    },
    {
      "cell_type": "code",
      "execution_count": 19,
      "metadata": {
        "id": "1kq9QWhLURsH"
      },
      "outputs": [],
      "source": [
        "# Create the Sequential model instance\n",
        "nn = Sequential()\n"
      ]
    },
    {
      "cell_type": "code",
      "execution_count": 20,
      "metadata": {
        "id": "NcVrWCD_URsI"
      },
      "outputs": [],
      "source": [
        "# Add the first hidden layer\n",
        "nn.add(Dense(units=hidden_nodes_layer1, input_dim=number_input_features, activation=\"relu\"))"
      ]
    },
    {
      "cell_type": "code",
      "execution_count": 21,
      "metadata": {
        "id": "Ugxr6lisURsI"
      },
      "outputs": [],
      "source": [
        "# Add the second hidden layer\n",
        "nn.add(Dense(units=hidden_nodes_layer2, input_dim=number_input_features, activation=\"relu\"))\n"
      ]
    },
    {
      "cell_type": "code",
      "execution_count": 22,
      "metadata": {
        "id": "QxcGEyNoURsI"
      },
      "outputs": [],
      "source": [
        "# Add the output layer to the model specifying the number of output neurons and activation function\n",
        "nn.add(Dense(1, activation=\"sigmoid\"))\n"
      ]
    },
    {
      "cell_type": "code",
      "execution_count": 23,
      "metadata": {
        "id": "1L2ZVcXgURsI"
      },
      "outputs": [
        {
          "name": "stdout",
          "output_type": "stream",
          "text": [
            "Model: \"sequential\"\n",
            "_________________________________________________________________\n",
            " Layer (type)                Output Shape              Param #   \n",
            "=================================================================\n",
            " dense (Dense)               (None, 18)                2106      \n",
            "                                                                 \n",
            " dense_1 (Dense)             (None, 8)                 152       \n",
            "                                                                 \n",
            " dense_2 (Dense)             (None, 1)                 9         \n",
            "                                                                 \n",
            "=================================================================\n",
            "Total params: 2,267\n",
            "Trainable params: 2,267\n",
            "Non-trainable params: 0\n",
            "_________________________________________________________________\n"
          ]
        }
      ],
      "source": [
        "# Display the Sequential model summary\n",
        "nn.summary()\n"
      ]
    },
    {
      "cell_type": "markdown",
      "metadata": {
        "id": "pzoKsvI3URsI"
      },
      "source": [
        "### Step 2: Compile and fit the model using the `binary_crossentropy` loss function, the `adam` optimizer, and the `accuracy` evaluation metric.\n"
      ]
    },
    {
      "cell_type": "code",
      "execution_count": 24,
      "metadata": {
        "id": "PR8r_cL1URsI"
      },
      "outputs": [],
      "source": [
        "# Compile the Sequential model\n",
        "nn.compile(loss=\"binary_crossentropy\", optimizer=\"adam\", metrics=[\"accuracy\"])\n"
      ]
    },
    {
      "cell_type": "code",
      "execution_count": 25,
      "metadata": {
        "id": "5_z-FPHJURsI"
      },
      "outputs": [
        {
          "name": "stdout",
          "output_type": "stream",
          "text": [
            "Epoch 1/50\n",
            "804/804 [==============================] - 1s 1ms/step - loss: 0.6421 - accuracy: 0.6817\n",
            "Epoch 2/50\n",
            "804/804 [==============================] - 1s 965us/step - loss: 0.5638 - accuracy: 0.7266\n",
            "Epoch 3/50\n",
            "804/804 [==============================] - 1s 939us/step - loss: 0.5525 - accuracy: 0.7293\n",
            "Epoch 4/50\n",
            "804/804 [==============================] - 1s 954us/step - loss: 0.5493 - accuracy: 0.7296\n",
            "Epoch 5/50\n",
            "804/804 [==============================] - 1s 923us/step - loss: 0.5473 - accuracy: 0.7323\n",
            "Epoch 6/50\n",
            "804/804 [==============================] - 1s 902us/step - loss: 0.5468 - accuracy: 0.7322\n",
            "Epoch 7/50\n",
            "804/804 [==============================] - 1s 873us/step - loss: 0.5460 - accuracy: 0.7331\n",
            "Epoch 8/50\n",
            "804/804 [==============================] - 1s 879us/step - loss: 0.5451 - accuracy: 0.7334\n",
            "Epoch 9/50\n",
            "804/804 [==============================] - 1s 906us/step - loss: 0.5447 - accuracy: 0.7335\n",
            "Epoch 10/50\n",
            "804/804 [==============================] - 1s 949us/step - loss: 0.5445 - accuracy: 0.7333\n",
            "Epoch 11/50\n",
            "804/804 [==============================] - 1s 907us/step - loss: 0.5436 - accuracy: 0.7338\n",
            "Epoch 12/50\n",
            "804/804 [==============================] - 1s 887us/step - loss: 0.5433 - accuracy: 0.7335\n",
            "Epoch 13/50\n",
            "804/804 [==============================] - 1s 955us/step - loss: 0.5429 - accuracy: 0.7337\n",
            "Epoch 14/50\n",
            "804/804 [==============================] - 1s 893us/step - loss: 0.5422 - accuracy: 0.7346\n",
            "Epoch 15/50\n",
            "804/804 [==============================] - 1s 918us/step - loss: 0.5420 - accuracy: 0.7349\n",
            "Epoch 16/50\n",
            "804/804 [==============================] - 1s 875us/step - loss: 0.5414 - accuracy: 0.7360\n",
            "Epoch 17/50\n",
            "804/804 [==============================] - 1s 922us/step - loss: 0.5416 - accuracy: 0.7355\n",
            "Epoch 18/50\n",
            "804/804 [==============================] - 1s 879us/step - loss: 0.5412 - accuracy: 0.7357\n",
            "Epoch 19/50\n",
            "804/804 [==============================] - 1s 947us/step - loss: 0.5410 - accuracy: 0.7354\n",
            "Epoch 20/50\n",
            "804/804 [==============================] - 1s 883us/step - loss: 0.5410 - accuracy: 0.7360\n",
            "Epoch 21/50\n",
            "804/804 [==============================] - 1s 950us/step - loss: 0.5405 - accuracy: 0.7371\n",
            "Epoch 22/50\n",
            "804/804 [==============================] - 1s 887us/step - loss: 0.5401 - accuracy: 0.7362\n",
            "Epoch 23/50\n",
            "804/804 [==============================] - 1s 870us/step - loss: 0.5406 - accuracy: 0.7358\n",
            "Epoch 24/50\n",
            "804/804 [==============================] - 1s 939us/step - loss: 0.5398 - accuracy: 0.7362\n",
            "Epoch 25/50\n",
            "804/804 [==============================] - 1s 961us/step - loss: 0.5399 - accuracy: 0.7365\n",
            "Epoch 26/50\n",
            "804/804 [==============================] - 1s 928us/step - loss: 0.5392 - accuracy: 0.7361\n",
            "Epoch 27/50\n",
            "804/804 [==============================] - 1s 898us/step - loss: 0.5389 - accuracy: 0.7381\n",
            "Epoch 28/50\n",
            "804/804 [==============================] - 1s 943us/step - loss: 0.5392 - accuracy: 0.7374\n",
            "Epoch 29/50\n",
            "804/804 [==============================] - 1s 899us/step - loss: 0.5392 - accuracy: 0.7374\n",
            "Epoch 30/50\n",
            "804/804 [==============================] - 1s 966us/step - loss: 0.5386 - accuracy: 0.7375\n",
            "Epoch 31/50\n",
            "804/804 [==============================] - 1s 905us/step - loss: 0.5388 - accuracy: 0.7373\n",
            "Epoch 32/50\n",
            "804/804 [==============================] - 1s 894us/step - loss: 0.5390 - accuracy: 0.7375\n",
            "Epoch 33/50\n",
            "804/804 [==============================] - 1s 897us/step - loss: 0.5383 - accuracy: 0.7379\n",
            "Epoch 34/50\n",
            "804/804 [==============================] - 1s 895us/step - loss: 0.5379 - accuracy: 0.7381\n",
            "Epoch 35/50\n",
            "804/804 [==============================] - 1s 889us/step - loss: 0.5381 - accuracy: 0.7372\n",
            "Epoch 36/50\n",
            "804/804 [==============================] - 1s 894us/step - loss: 0.5379 - accuracy: 0.7381\n",
            "Epoch 37/50\n",
            "804/804 [==============================] - 1s 961us/step - loss: 0.5379 - accuracy: 0.7386\n",
            "Epoch 38/50\n",
            "804/804 [==============================] - 1s 977us/step - loss: 0.5375 - accuracy: 0.7389\n",
            "Epoch 39/50\n",
            "804/804 [==============================] - 1s 892us/step - loss: 0.5377 - accuracy: 0.7389\n",
            "Epoch 40/50\n",
            "804/804 [==============================] - 1s 899us/step - loss: 0.5371 - accuracy: 0.7382\n",
            "Epoch 41/50\n",
            "804/804 [==============================] - 1s 927us/step - loss: 0.5371 - accuracy: 0.7388\n",
            "Epoch 42/50\n",
            "804/804 [==============================] - 1s 889us/step - loss: 0.5369 - accuracy: 0.7379\n",
            "Epoch 43/50\n",
            "804/804 [==============================] - 1s 1ms/step - loss: 0.5375 - accuracy: 0.7379\n",
            "Epoch 44/50\n",
            "804/804 [==============================] - 1s 904us/step - loss: 0.5363 - accuracy: 0.7381\n",
            "Epoch 45/50\n",
            "804/804 [==============================] - 1s 918us/step - loss: 0.5365 - accuracy: 0.7392\n",
            "Epoch 46/50\n",
            "804/804 [==============================] - 1s 888us/step - loss: 0.5367 - accuracy: 0.7383\n",
            "Epoch 47/50\n",
            "804/804 [==============================] - 1s 942us/step - loss: 0.5366 - accuracy: 0.7387\n",
            "Epoch 48/50\n",
            "804/804 [==============================] - 1s 888us/step - loss: 0.5367 - accuracy: 0.7380\n",
            "Epoch 49/50\n",
            "804/804 [==============================] - 1s 931us/step - loss: 0.5364 - accuracy: 0.7393\n",
            "Epoch 50/50\n",
            "804/804 [==============================] - 1s 996us/step - loss: 0.5364 - accuracy: 0.7385\n"
          ]
        }
      ],
      "source": [
        "# Fit the model using 50 epochs and the training data\n",
        "model = nn.fit(X_train_scaled, y_train, epochs=50)\n"
      ]
    },
    {
      "cell_type": "markdown",
      "metadata": {
        "id": "JIbFSQ-FURsI"
      },
      "source": [
        "### Step 3: Evaluate the model using the test data to determine the model’s loss and accuracy.\n"
      ]
    },
    {
      "cell_type": "code",
      "execution_count": 26,
      "metadata": {
        "id": "rWaHGdGrURsI"
      },
      "outputs": [
        {
          "name": "stdout",
          "output_type": "stream",
          "text": [
            "268/268 - 0s - loss: 0.5550 - accuracy: 0.7306 - 290ms/epoch - 1ms/step\n",
            "Loss: 0.5550395250320435, Accuracy: 0.7306122183799744\n"
          ]
        }
      ],
      "source": [
        "# Evaluate the model loss and accuracy metrics using the evaluate method and the test data\n",
        "model_loss, model_accuracy = nn.evaluate(X_test_scaled, y_test, verbose=2)\n",
        "\n",
        "# Display the model loss and accuracy results\n",
        "print(f\"Loss: {model_loss}, Accuracy: {model_accuracy}\")"
      ]
    },
    {
      "cell_type": "markdown",
      "metadata": {
        "id": "ppT2iIP5URsJ"
      },
      "source": [
        "### Step 4: Save and export your model to an HDF5 file, and name the file `AlphabetSoup.h5`. \n"
      ]
    },
    {
      "cell_type": "code",
      "execution_count": 27,
      "metadata": {
        "id": "iOuA28RQURsJ"
      },
      "outputs": [],
      "source": [
        "# Set the model's file path\n",
        "file_path = \"AlphabetSoup.h5\"\n",
        "\n",
        "# Export your model to a HDF5 file\n",
        "nn.save(file_path)\n"
      ]
    },
    {
      "cell_type": "markdown",
      "metadata": {
        "id": "xlN5E4WfURsJ"
      },
      "source": [
        "---\n",
        "\n",
        "## Optimize the neural network model\n"
      ]
    },
    {
      "cell_type": "markdown",
      "metadata": {
        "id": "0q7pN2XKURsJ"
      },
      "source": [
        "### Step 1: Define at least three new deep neural network models (resulting in the original plus 3 optimization attempts). With each, try to improve on your first model’s predictive accuracy.\n",
        "\n",
        "> **Rewind** Recall that perfect accuracy has a value of 1, so accuracy improves as its value moves closer to 1. To optimize your model for a predictive accuracy as close to 1 as possible, you can use any or all of the following techniques:\n",
        ">\n",
        "> * Adjust the input data by dropping different features columns to ensure that no variables or outliers confuse the model.\n",
        ">\n",
        "> * Add more neurons (nodes) to a hidden layer.\n",
        ">\n",
        "> * Add more hidden layers.\n",
        ">\n",
        "> * Use different activation functions for the hidden layers.\n",
        ">\n",
        "> * Add to or reduce the number of epochs in the training regimen.\n"
      ]
    },
    {
      "cell_type": "markdown",
      "metadata": {
        "id": "slhZ-iS1URsJ"
      },
      "source": [
        "### Alternative Model 1"
      ]
    },
    {
      "cell_type": "code",
      "execution_count": 28,
      "metadata": {
        "id": "zqbrMOgCURsJ"
      },
      "outputs": [
        {
          "data": {
            "text/plain": [
              "116"
            ]
          },
          "execution_count": 28,
          "metadata": {},
          "output_type": "execute_result"
        }
      ],
      "source": [
        "# Define the the number of inputs (features) to the model\n",
        "number_input_features = len(X_train.iloc[0])\n",
        "\n",
        "# Review the number of features\n",
        "number_input_features"
      ]
    },
    {
      "cell_type": "code",
      "execution_count": 29,
      "metadata": {
        "id": "U3rrh76sURsJ"
      },
      "outputs": [],
      "source": [
        "# Define the number of neurons in the output layer\n",
        "number_output_neurons_A1 = 1"
      ]
    },
    {
      "cell_type": "code",
      "execution_count": 30,
      "metadata": {
        "id": "lMOrWGBKURsJ"
      },
      "outputs": [
        {
          "data": {
            "text/plain": [
              "22"
            ]
          },
          "execution_count": 30,
          "metadata": {},
          "output_type": "execute_result"
        }
      ],
      "source": [
        "# Define the number of hidden nodes for the first hidden layer\n",
        "hidden_nodes_layer1_A1 = 22\n",
        "\n",
        "# Review the number of hidden nodes in the first layer\n",
        "hidden_nodes_layer1_A1"
      ]
    },
    {
      "cell_type": "code",
      "execution_count": 31,
      "metadata": {
        "id": "efNsx7TfURsK"
      },
      "outputs": [],
      "source": [
        "# Create the Sequential model instance\n",
        "nn_A1 = Sequential()"
      ]
    },
    {
      "cell_type": "code",
      "execution_count": 32,
      "metadata": {
        "id": "0uMhdXQWURsK"
      },
      "outputs": [
        {
          "name": "stdout",
          "output_type": "stream",
          "text": [
            "Model: \"sequential_1\"\n",
            "_________________________________________________________________\n",
            " Layer (type)                Output Shape              Param #   \n",
            "=================================================================\n",
            " dense_3 (Dense)             (None, 18)                2106      \n",
            "                                                                 \n",
            " dense_4 (Dense)             (None, 1)                 19        \n",
            "                                                                 \n",
            "=================================================================\n",
            "Total params: 2,125\n",
            "Trainable params: 2,125\n",
            "Non-trainable params: 0\n",
            "_________________________________________________________________\n"
          ]
        }
      ],
      "source": [
        "# First hidden layer\n",
        "nn_A1.add(Dense(units=hidden_nodes_layer1, input_dim=number_input_features, activation=\"relu\"))\n",
        "\n",
        "\n",
        "# Output layer\n",
        "nn_A1.add(Dense(units=number_output_neurons_A1, activation=\"sigmoid\"))\n",
        "\n",
        "\n",
        "# Check the structure of the model\n",
        "nn_A1.summary()"
      ]
    },
    {
      "cell_type": "code",
      "execution_count": 33,
      "metadata": {
        "id": "2gDpRhG7URsK"
      },
      "outputs": [],
      "source": [
        "# Compile the Sequential model\n",
        "nn_A1.compile(loss=\"binary_crossentropy\", optimizer=\"adam\", metrics=[\"accuracy\"])\n"
      ]
    },
    {
      "cell_type": "code",
      "execution_count": 34,
      "metadata": {
        "id": "zE4UD4NyURsK"
      },
      "outputs": [
        {
          "name": "stdout",
          "output_type": "stream",
          "text": [
            "Epoch 1/50\n",
            "804/804 [==============================] - 1s 899us/step - loss: 0.6223 - accuracy: 0.6920\n",
            "Epoch 2/50\n",
            "804/804 [==============================] - 1s 909us/step - loss: 0.5695 - accuracy: 0.7249\n",
            "Epoch 3/50\n",
            "804/804 [==============================] - 1s 924us/step - loss: 0.5613 - accuracy: 0.7276\n",
            "Epoch 4/50\n",
            "804/804 [==============================] - 1s 877us/step - loss: 0.5567 - accuracy: 0.7294\n",
            "Epoch 5/50\n",
            "804/804 [==============================] - 1s 862us/step - loss: 0.5541 - accuracy: 0.7309\n",
            "Epoch 6/50\n",
            "804/804 [==============================] - 1s 937us/step - loss: 0.5519 - accuracy: 0.7312\n",
            "Epoch 7/50\n",
            "804/804 [==============================] - 1s 867us/step - loss: 0.5509 - accuracy: 0.7302\n",
            "Epoch 8/50\n",
            "804/804 [==============================] - 1s 875us/step - loss: 0.5495 - accuracy: 0.7314\n",
            "Epoch 9/50\n",
            "804/804 [==============================] - 1s 861us/step - loss: 0.5487 - accuracy: 0.7318\n",
            "Epoch 10/50\n",
            "804/804 [==============================] - 1s 876us/step - loss: 0.5485 - accuracy: 0.7323\n",
            "Epoch 11/50\n",
            "804/804 [==============================] - 1s 937us/step - loss: 0.5479 - accuracy: 0.7317\n",
            "Epoch 12/50\n",
            "804/804 [==============================] - 1s 936us/step - loss: 0.5473 - accuracy: 0.7325\n",
            "Epoch 13/50\n",
            "804/804 [==============================] - 1s 938us/step - loss: 0.5462 - accuracy: 0.7327\n",
            "Epoch 14/50\n",
            "804/804 [==============================] - 1s 914us/step - loss: 0.5464 - accuracy: 0.7341\n",
            "Epoch 15/50\n",
            "804/804 [==============================] - 1s 903us/step - loss: 0.5465 - accuracy: 0.7326\n",
            "Epoch 16/50\n",
            "804/804 [==============================] - 1s 900us/step - loss: 0.5453 - accuracy: 0.7336\n",
            "Epoch 17/50\n",
            "804/804 [==============================] - 1s 912us/step - loss: 0.5452 - accuracy: 0.7345\n",
            "Epoch 18/50\n",
            "804/804 [==============================] - 1s 891us/step - loss: 0.5450 - accuracy: 0.7336\n",
            "Epoch 19/50\n",
            "804/804 [==============================] - 1s 896us/step - loss: 0.5451 - accuracy: 0.7340\n",
            "Epoch 20/50\n",
            "804/804 [==============================] - 1s 897us/step - loss: 0.5448 - accuracy: 0.7335\n",
            "Epoch 21/50\n",
            "804/804 [==============================] - 1s 902us/step - loss: 0.5442 - accuracy: 0.7333\n",
            "Epoch 22/50\n",
            "804/804 [==============================] - 1s 901us/step - loss: 0.5442 - accuracy: 0.7329\n",
            "Epoch 23/50\n",
            "804/804 [==============================] - 1s 909us/step - loss: 0.5436 - accuracy: 0.7343\n",
            "Epoch 24/50\n",
            "804/804 [==============================] - 1s 902us/step - loss: 0.5436 - accuracy: 0.7349\n",
            "Epoch 25/50\n",
            "804/804 [==============================] - 1s 890us/step - loss: 0.5438 - accuracy: 0.7332\n",
            "Epoch 26/50\n",
            "804/804 [==============================] - 1s 921us/step - loss: 0.5433 - accuracy: 0.7337\n",
            "Epoch 27/50\n",
            "804/804 [==============================] - 1s 893us/step - loss: 0.5430 - accuracy: 0.7346\n",
            "Epoch 28/50\n",
            "804/804 [==============================] - 1s 872us/step - loss: 0.5431 - accuracy: 0.7347\n",
            "Epoch 29/50\n",
            "804/804 [==============================] - 1s 871us/step - loss: 0.5425 - accuracy: 0.7346\n",
            "Epoch 30/50\n",
            "804/804 [==============================] - 1s 869us/step - loss: 0.5427 - accuracy: 0.7352\n",
            "Epoch 31/50\n",
            "804/804 [==============================] - 1s 877us/step - loss: 0.5424 - accuracy: 0.7347\n",
            "Epoch 32/50\n",
            "804/804 [==============================] - 1s 925us/step - loss: 0.5425 - accuracy: 0.7334\n",
            "Epoch 33/50\n",
            "804/804 [==============================] - 1s 965us/step - loss: 0.5422 - accuracy: 0.7355\n",
            "Epoch 34/50\n",
            "804/804 [==============================] - 1s 896us/step - loss: 0.5421 - accuracy: 0.7352\n",
            "Epoch 35/50\n",
            "804/804 [==============================] - 1s 860us/step - loss: 0.5415 - accuracy: 0.7354\n",
            "Epoch 36/50\n",
            "804/804 [==============================] - 1s 929us/step - loss: 0.5415 - accuracy: 0.7345\n",
            "Epoch 37/50\n",
            "804/804 [==============================] - 1s 1ms/step - loss: 0.5415 - accuracy: 0.7353\n",
            "Epoch 38/50\n",
            "804/804 [==============================] - 1s 877us/step - loss: 0.5416 - accuracy: 0.7358\n",
            "Epoch 39/50\n",
            "804/804 [==============================] - 1s 861us/step - loss: 0.5414 - accuracy: 0.7352\n",
            "Epoch 40/50\n",
            "804/804 [==============================] - 1s 856us/step - loss: 0.5410 - accuracy: 0.7357\n",
            "Epoch 41/50\n",
            "804/804 [==============================] - 1s 861us/step - loss: 0.5413 - accuracy: 0.7361\n",
            "Epoch 42/50\n",
            "804/804 [==============================] - 1s 864us/step - loss: 0.5407 - accuracy: 0.7356\n",
            "Epoch 43/50\n",
            "804/804 [==============================] - 1s 866us/step - loss: 0.5409 - accuracy: 0.7360\n",
            "Epoch 44/50\n",
            "804/804 [==============================] - 1s 857us/step - loss: 0.5406 - accuracy: 0.7361\n",
            "Epoch 45/50\n",
            "804/804 [==============================] - 1s 905us/step - loss: 0.5405 - accuracy: 0.7358\n",
            "Epoch 46/50\n",
            "804/804 [==============================] - 1s 869us/step - loss: 0.5405 - accuracy: 0.7352\n",
            "Epoch 47/50\n",
            "804/804 [==============================] - 1s 874us/step - loss: 0.5405 - accuracy: 0.7359\n",
            "Epoch 48/50\n",
            "804/804 [==============================] - 1s 858us/step - loss: 0.5405 - accuracy: 0.7348\n",
            "Epoch 49/50\n",
            "804/804 [==============================] - 1s 879us/step - loss: 0.5402 - accuracy: 0.7348\n",
            "Epoch 50/50\n",
            "804/804 [==============================] - 1s 851us/step - loss: 0.5404 - accuracy: 0.7363\n"
          ]
        }
      ],
      "source": [
        "# Fit the model using 50 epochs and the training data\n",
        "fit_model_A1 = nn_A1.fit(X_train_scaled, y_train, epochs=50)\n"
      ]
    },
    {
      "cell_type": "markdown",
      "metadata": {
        "id": "aMZAmHrlURsK"
      },
      "source": [
        "#### Alternative Model 2"
      ]
    },
    {
      "cell_type": "code",
      "execution_count": 35,
      "metadata": {
        "id": "Mw0cxkvOURsK"
      },
      "outputs": [
        {
          "data": {
            "text/plain": [
              "116"
            ]
          },
          "execution_count": 35,
          "metadata": {},
          "output_type": "execute_result"
        }
      ],
      "source": [
        "# Define the the number of inputs (features) to the model\n",
        "number_input_features = len(X_train.iloc[0])\n",
        "\n",
        "# Review the number of features\n",
        "number_input_features"
      ]
    },
    {
      "cell_type": "code",
      "execution_count": 36,
      "metadata": {
        "id": "qnLSrAKJURsK"
      },
      "outputs": [],
      "source": [
        "# Define the number of neurons in the output layer\n",
        "number_output_neurons_A2 = 1"
      ]
    },
    {
      "cell_type": "code",
      "execution_count": 37,
      "metadata": {
        "id": "myK4iGVBURsK"
      },
      "outputs": [
        {
          "data": {
            "text/plain": [
              "20"
            ]
          },
          "execution_count": 37,
          "metadata": {},
          "output_type": "execute_result"
        }
      ],
      "source": [
        "# Define the number of hidden nodes for the first hidden layer\n",
        "hidden_nodes_layer1_A2 = 20\n",
        "\n",
        "# Review the number of hidden nodes in the first layer\n",
        "hidden_nodes_layer1_A2"
      ]
    },
    {
      "cell_type": "code",
      "execution_count": 38,
      "metadata": {
        "id": "lB6J98OSURsL"
      },
      "outputs": [],
      "source": [
        "# Create the Sequential model instance\n",
        "nn_A2 = Sequential()"
      ]
    },
    {
      "cell_type": "code",
      "execution_count": 39,
      "metadata": {
        "id": "EX5HLuh9URsL"
      },
      "outputs": [
        {
          "name": "stdout",
          "output_type": "stream",
          "text": [
            "Model: \"sequential_2\"\n",
            "_________________________________________________________________\n",
            " Layer (type)                Output Shape              Param #   \n",
            "=================================================================\n",
            " dense_5 (Dense)             (None, 20)                2340      \n",
            "                                                                 \n",
            " dense_6 (Dense)             (None, 1)                 21        \n",
            "                                                                 \n",
            "=================================================================\n",
            "Total params: 2,361\n",
            "Trainable params: 2,361\n",
            "Non-trainable params: 0\n",
            "_________________________________________________________________\n"
          ]
        }
      ],
      "source": [
        "# First hidden layer\n",
        "nn_A2.add(Dense(units=hidden_nodes_layer1_A2, input_dim=number_input_features, activation=\"relu\"))\n",
        "\n",
        "# Output layer\n",
        "nn_A2.add(Dense(units=number_output_neurons, activation=\"sigmoid\"))\n",
        "\n",
        "# Check the structure of the model\n",
        "nn_A2.summary()\n"
      ]
    },
    {
      "cell_type": "code",
      "execution_count": 40,
      "metadata": {
        "id": "JrI6zrIRURsL"
      },
      "outputs": [],
      "source": [
        "# Compile the model\n",
        "nn_A2.compile(loss=\"binary_crossentropy\", optimizer=\"adam\", metrics=[\"accuracy\"])\n"
      ]
    },
    {
      "cell_type": "code",
      "execution_count": 41,
      "metadata": {
        "id": "8M3fXVn_URsL"
      },
      "outputs": [
        {
          "name": "stdout",
          "output_type": "stream",
          "text": [
            "Epoch 1/100\n",
            "804/804 [==============================] - 1s 915us/step - loss: 0.5968 - accuracy: 0.7105\n",
            "Epoch 2/100\n",
            "804/804 [==============================] - 1s 951us/step - loss: 0.5604 - accuracy: 0.7275\n",
            "Epoch 3/100\n",
            "804/804 [==============================] - 1s 922us/step - loss: 0.5546 - accuracy: 0.7287\n",
            "Epoch 4/100\n",
            "804/804 [==============================] - 1s 885us/step - loss: 0.5522 - accuracy: 0.7309\n",
            "Epoch 5/100\n",
            "804/804 [==============================] - 1s 847us/step - loss: 0.5503 - accuracy: 0.7303\n",
            "Epoch 6/100\n",
            "804/804 [==============================] - 1s 854us/step - loss: 0.5500 - accuracy: 0.7315\n",
            "Epoch 7/100\n",
            "804/804 [==============================] - 1s 852us/step - loss: 0.5483 - accuracy: 0.7327\n",
            "Epoch 8/100\n",
            "804/804 [==============================] - 1s 863us/step - loss: 0.5478 - accuracy: 0.7317\n",
            "Epoch 9/100\n",
            "804/804 [==============================] - 1s 846us/step - loss: 0.5468 - accuracy: 0.7319\n",
            "Epoch 10/100\n",
            "804/804 [==============================] - 1s 863us/step - loss: 0.5468 - accuracy: 0.7320\n",
            "Epoch 11/100\n",
            "804/804 [==============================] - 1s 837us/step - loss: 0.5463 - accuracy: 0.7324\n",
            "Epoch 12/100\n",
            "804/804 [==============================] - 1s 868us/step - loss: 0.5458 - accuracy: 0.7326\n",
            "Epoch 13/100\n",
            "804/804 [==============================] - 1s 865us/step - loss: 0.5453 - accuracy: 0.7338\n",
            "Epoch 14/100\n",
            "804/804 [==============================] - 1s 843us/step - loss: 0.5455 - accuracy: 0.7333\n",
            "Epoch 15/100\n",
            "804/804 [==============================] - 1s 840us/step - loss: 0.5445 - accuracy: 0.7332\n",
            "Epoch 16/100\n",
            "804/804 [==============================] - 1s 845us/step - loss: 0.5440 - accuracy: 0.7333\n",
            "Epoch 17/100\n",
            "804/804 [==============================] - 1s 853us/step - loss: 0.5441 - accuracy: 0.7327\n",
            "Epoch 18/100\n",
            "804/804 [==============================] - 1s 857us/step - loss: 0.5436 - accuracy: 0.7340\n",
            "Epoch 19/100\n",
            "804/804 [==============================] - 1s 844us/step - loss: 0.5437 - accuracy: 0.7345\n",
            "Epoch 20/100\n",
            "804/804 [==============================] - 1s 844us/step - loss: 0.5432 - accuracy: 0.7338\n",
            "Epoch 21/100\n",
            "804/804 [==============================] - 1s 847us/step - loss: 0.5434 - accuracy: 0.7345\n",
            "Epoch 22/100\n",
            "804/804 [==============================] - 1s 850us/step - loss: 0.5431 - accuracy: 0.7343\n",
            "Epoch 23/100\n",
            "804/804 [==============================] - 1s 862us/step - loss: 0.5425 - accuracy: 0.7336\n",
            "Epoch 24/100\n",
            "804/804 [==============================] - 1s 867us/step - loss: 0.5427 - accuracy: 0.7352\n",
            "Epoch 25/100\n",
            "804/804 [==============================] - 1s 865us/step - loss: 0.5426 - accuracy: 0.7339\n",
            "Epoch 26/100\n",
            "804/804 [==============================] - 1s 844us/step - loss: 0.5423 - accuracy: 0.7350\n",
            "Epoch 27/100\n",
            "804/804 [==============================] - 1s 853us/step - loss: 0.5422 - accuracy: 0.7333\n",
            "Epoch 28/100\n",
            "804/804 [==============================] - 1s 874us/step - loss: 0.5417 - accuracy: 0.7342\n",
            "Epoch 29/100\n",
            "804/804 [==============================] - 1s 1ms/step - loss: 0.5419 - accuracy: 0.7344\n",
            "Epoch 30/100\n",
            "804/804 [==============================] - 1s 935us/step - loss: 0.5415 - accuracy: 0.7356\n",
            "Epoch 31/100\n",
            "804/804 [==============================] - 1s 956us/step - loss: 0.5414 - accuracy: 0.7352\n",
            "Epoch 32/100\n",
            "804/804 [==============================] - 1s 1ms/step - loss: 0.5415 - accuracy: 0.7339\n",
            "Epoch 33/100\n",
            "804/804 [==============================] - 1s 1ms/step - loss: 0.5410 - accuracy: 0.7349\n",
            "Epoch 34/100\n",
            "804/804 [==============================] - 1s 1ms/step - loss: 0.5406 - accuracy: 0.7350\n",
            "Epoch 35/100\n",
            "804/804 [==============================] - 1s 1ms/step - loss: 0.5408 - accuracy: 0.7355\n",
            "Epoch 36/100\n",
            "804/804 [==============================] - 1s 1ms/step - loss: 0.5412 - accuracy: 0.7345\n",
            "Epoch 37/100\n",
            "804/804 [==============================] - 1s 967us/step - loss: 0.5407 - accuracy: 0.7344\n",
            "Epoch 38/100\n",
            "804/804 [==============================] - 1s 962us/step - loss: 0.5410 - accuracy: 0.7357\n",
            "Epoch 39/100\n",
            "804/804 [==============================] - 1s 1ms/step - loss: 0.5405 - accuracy: 0.7350\n",
            "Epoch 40/100\n",
            "804/804 [==============================] - 1s 1ms/step - loss: 0.5402 - accuracy: 0.7351\n",
            "Epoch 41/100\n",
            "804/804 [==============================] - 1s 1ms/step - loss: 0.5402 - accuracy: 0.7361\n",
            "Epoch 42/100\n",
            "804/804 [==============================] - 1s 839us/step - loss: 0.5406 - accuracy: 0.7360\n",
            "Epoch 43/100\n",
            "804/804 [==============================] - 1s 838us/step - loss: 0.5398 - accuracy: 0.7357\n",
            "Epoch 44/100\n",
            "804/804 [==============================] - 1s 850us/step - loss: 0.5402 - accuracy: 0.7364\n",
            "Epoch 45/100\n",
            "804/804 [==============================] - 1s 869us/step - loss: 0.5397 - accuracy: 0.7366\n",
            "Epoch 46/100\n",
            "804/804 [==============================] - 1s 848us/step - loss: 0.5398 - accuracy: 0.7357\n",
            "Epoch 47/100\n",
            "804/804 [==============================] - 1s 1ms/step - loss: 0.5397 - accuracy: 0.7362\n",
            "Epoch 48/100\n",
            "804/804 [==============================] - 1s 1ms/step - loss: 0.5396 - accuracy: 0.7364\n",
            "Epoch 49/100\n",
            "804/804 [==============================] - 1s 870us/step - loss: 0.5394 - accuracy: 0.7364\n",
            "Epoch 50/100\n",
            "804/804 [==============================] - 1s 938us/step - loss: 0.5394 - accuracy: 0.7362\n",
            "Epoch 51/100\n",
            "804/804 [==============================] - 1s 847us/step - loss: 0.5392 - accuracy: 0.7357\n",
            "Epoch 52/100\n",
            "804/804 [==============================] - 1s 849us/step - loss: 0.5390 - accuracy: 0.7369\n",
            "Epoch 53/100\n",
            "804/804 [==============================] - 1s 886us/step - loss: 0.5394 - accuracy: 0.7373\n",
            "Epoch 54/100\n",
            "804/804 [==============================] - 1s 900us/step - loss: 0.5392 - accuracy: 0.7359\n",
            "Epoch 55/100\n",
            "804/804 [==============================] - 1s 949us/step - loss: 0.5392 - accuracy: 0.7365\n",
            "Epoch 56/100\n",
            "804/804 [==============================] - 1s 860us/step - loss: 0.5388 - accuracy: 0.7364\n",
            "Epoch 57/100\n",
            "804/804 [==============================] - 1s 915us/step - loss: 0.5389 - accuracy: 0.7370\n",
            "Epoch 58/100\n",
            "804/804 [==============================] - 1s 995us/step - loss: 0.5388 - accuracy: 0.7361\n",
            "Epoch 59/100\n",
            "804/804 [==============================] - 1s 1ms/step - loss: 0.5388 - accuracy: 0.7370\n",
            "Epoch 60/100\n",
            "804/804 [==============================] - 1s 1ms/step - loss: 0.5388 - accuracy: 0.7355\n",
            "Epoch 61/100\n",
            "804/804 [==============================] - 1s 876us/step - loss: 0.5386 - accuracy: 0.7371\n",
            "Epoch 62/100\n",
            "804/804 [==============================] - 1s 850us/step - loss: 0.5384 - accuracy: 0.7365\n",
            "Epoch 63/100\n",
            "804/804 [==============================] - 1s 896us/step - loss: 0.5385 - accuracy: 0.7370\n",
            "Epoch 64/100\n",
            "804/804 [==============================] - 1s 859us/step - loss: 0.5384 - accuracy: 0.7362\n",
            "Epoch 65/100\n",
            "804/804 [==============================] - 1s 885us/step - loss: 0.5384 - accuracy: 0.7374\n",
            "Epoch 66/100\n",
            "804/804 [==============================] - 1s 837us/step - loss: 0.5384 - accuracy: 0.7376\n",
            "Epoch 67/100\n",
            "804/804 [==============================] - 1s 864us/step - loss: 0.5382 - accuracy: 0.7359\n",
            "Epoch 68/100\n",
            "804/804 [==============================] - 1s 847us/step - loss: 0.5380 - accuracy: 0.7376\n",
            "Epoch 69/100\n",
            "804/804 [==============================] - 1s 838us/step - loss: 0.5383 - accuracy: 0.7360\n",
            "Epoch 70/100\n",
            "804/804 [==============================] - 1s 846us/step - loss: 0.5384 - accuracy: 0.7363\n",
            "Epoch 71/100\n",
            "804/804 [==============================] - 1s 863us/step - loss: 0.5380 - accuracy: 0.7365\n",
            "Epoch 72/100\n",
            "804/804 [==============================] - 1s 900us/step - loss: 0.5385 - accuracy: 0.7376\n",
            "Epoch 73/100\n",
            "804/804 [==============================] - 1s 875us/step - loss: 0.5381 - accuracy: 0.7372\n",
            "Epoch 74/100\n",
            "804/804 [==============================] - 1s 910us/step - loss: 0.5378 - accuracy: 0.7363\n",
            "Epoch 75/100\n",
            "804/804 [==============================] - 1s 994us/step - loss: 0.5383 - accuracy: 0.7366\n",
            "Epoch 76/100\n",
            "804/804 [==============================] - 1s 858us/step - loss: 0.5378 - accuracy: 0.7369\n",
            "Epoch 77/100\n",
            "804/804 [==============================] - 1s 988us/step - loss: 0.5378 - accuracy: 0.7367\n",
            "Epoch 78/100\n",
            "804/804 [==============================] - 1s 908us/step - loss: 0.5379 - accuracy: 0.7365\n",
            "Epoch 79/100\n",
            "804/804 [==============================] - 1s 877us/step - loss: 0.5379 - accuracy: 0.7369\n",
            "Epoch 80/100\n",
            "804/804 [==============================] - 1s 848us/step - loss: 0.5376 - accuracy: 0.7380\n",
            "Epoch 81/100\n",
            "804/804 [==============================] - 1s 866us/step - loss: 0.5374 - accuracy: 0.7367\n",
            "Epoch 82/100\n",
            "804/804 [==============================] - 1s 852us/step - loss: 0.5376 - accuracy: 0.7368\n",
            "Epoch 83/100\n",
            "804/804 [==============================] - 1s 846us/step - loss: 0.5377 - accuracy: 0.7381\n",
            "Epoch 84/100\n",
            "804/804 [==============================] - 1s 908us/step - loss: 0.5372 - accuracy: 0.7377\n",
            "Epoch 85/100\n",
            "804/804 [==============================] - 1s 851us/step - loss: 0.5373 - accuracy: 0.7367\n",
            "Epoch 86/100\n",
            "804/804 [==============================] - 1s 883us/step - loss: 0.5371 - accuracy: 0.7367\n",
            "Epoch 87/100\n",
            "804/804 [==============================] - 1s 840us/step - loss: 0.5372 - accuracy: 0.7377\n",
            "Epoch 88/100\n",
            "804/804 [==============================] - 1s 859us/step - loss: 0.5372 - accuracy: 0.7371\n",
            "Epoch 89/100\n",
            "804/804 [==============================] - 1s 849us/step - loss: 0.5373 - accuracy: 0.7374\n",
            "Epoch 90/100\n",
            "804/804 [==============================] - 1s 846us/step - loss: 0.5370 - accuracy: 0.7371\n",
            "Epoch 91/100\n",
            "804/804 [==============================] - 1s 885us/step - loss: 0.5374 - accuracy: 0.7376\n",
            "Epoch 92/100\n",
            "804/804 [==============================] - 1s 857us/step - loss: 0.5369 - accuracy: 0.7367\n",
            "Epoch 93/100\n",
            "804/804 [==============================] - 1s 839us/step - loss: 0.5369 - accuracy: 0.7368\n",
            "Epoch 94/100\n",
            "804/804 [==============================] - 1s 869us/step - loss: 0.5368 - accuracy: 0.7376\n",
            "Epoch 95/100\n",
            "804/804 [==============================] - 1s 855us/step - loss: 0.5374 - accuracy: 0.7367\n",
            "Epoch 96/100\n",
            "804/804 [==============================] - 1s 858us/step - loss: 0.5374 - accuracy: 0.7370\n",
            "Epoch 97/100\n",
            "804/804 [==============================] - 1s 883us/step - loss: 0.5372 - accuracy: 0.7378\n",
            "Epoch 98/100\n",
            "804/804 [==============================] - 1s 854us/step - loss: 0.5368 - accuracy: 0.7377\n",
            "Epoch 99/100\n",
            "804/804 [==============================] - 1s 851us/step - loss: 0.5370 - accuracy: 0.7380\n",
            "Epoch 100/100\n",
            "804/804 [==============================] - 1s 855us/step - loss: 0.5368 - accuracy: 0.7371\n"
          ]
        },
        {
          "data": {
            "text/plain": [
              "<keras.callbacks.History at 0x2c28a1056c8>"
            ]
          },
          "execution_count": 41,
          "metadata": {},
          "output_type": "execute_result"
        }
      ],
      "source": [
        "# Fit the model\n",
        "nn_A2.fit(X_train_scaled, y_train, epochs=100)\n"
      ]
    },
    {
      "cell_type": "markdown",
      "metadata": {
        "id": "JkA48Z4hURsL"
      },
      "source": [
        "### Step 2: After finishing your models, display the accuracy scores achieved by each model, and compare the results."
      ]
    },
    {
      "cell_type": "code",
      "execution_count": 42,
      "metadata": {
        "id": "RXhF6K8SURsL"
      },
      "outputs": [
        {
          "name": "stdout",
          "output_type": "stream",
          "text": [
            "Original Model Results\n",
            "268/268 - 0s - loss: 0.5550 - accuracy: 0.7306 - 183ms/epoch - 682us/step\n",
            "Loss: 0.5550395250320435, Accuracy: 0.7306122183799744\n"
          ]
        }
      ],
      "source": [
        "print(\"Original Model Results\")\n",
        "\n",
        "# Evaluate the model loss and accuracy metrics using the evaluate method and the test data\n",
        "model_loss, model_accuracy = nn.evaluate(X_test_scaled, y_test, verbose=2)\n",
        "\n",
        "# Display the model loss and accuracy results\n",
        "print(f\"Loss: {model_loss}, Accuracy: {model_accuracy}\")"
      ]
    },
    {
      "cell_type": "code",
      "execution_count": 43,
      "metadata": {
        "id": "W52oclvkURsL"
      },
      "outputs": [
        {
          "name": "stdout",
          "output_type": "stream",
          "text": [
            "Alternative Model 1 Results\n",
            "268/268 - 0s - loss: 0.5556 - accuracy: 0.7326 - 251ms/epoch - 937us/step\n",
            "Loss: 0.5556028485298157, Accuracy: 0.7325947284698486\n"
          ]
        }
      ],
      "source": [
        "print(\"Alternative Model 1 Results\")\n",
        "\n",
        "# Evaluate the model loss and accuracy metrics using the evaluate method and the test data\n",
        "model_loss, model_accuracy = nn_A1.evaluate(X_test_scaled, y_test, verbose=2)\n",
        "\n",
        "# Display the model loss and accuracy results\n",
        "print(f\"Loss: {model_loss}, Accuracy: {model_accuracy}\")"
      ]
    },
    {
      "cell_type": "code",
      "execution_count": 44,
      "metadata": {
        "id": "4yPtU8_nURsL"
      },
      "outputs": [
        {
          "name": "stdout",
          "output_type": "stream",
          "text": [
            "Alternative Model 2 Results\n",
            "268/268 - 0s - loss: 0.5793 - accuracy: 0.7292 - 262ms/epoch - 977us/step\n",
            "Loss: 0.5792714357376099, Accuracy: 0.7292128205299377\n"
          ]
        }
      ],
      "source": [
        "print(\"Alternative Model 2 Results\")\n",
        "\n",
        "# Evaluate the model loss and accuracy metrics using the evaluate method and the test data\n",
        "model_loss, model_accuracy = nn_A2.evaluate(X_test_scaled, y_test, verbose=2)\n",
        "\n",
        "# Display the model loss and accuracy results\n",
        "print(f\"Loss: {model_loss}, Accuracy: {model_accuracy}\")"
      ]
    },
    {
      "cell_type": "markdown",
      "metadata": {
        "id": "eQ3b2y7OURsM"
      },
      "source": [
        "### Step 3: Save each of your alternative models as an HDF5 file.\n"
      ]
    },
    {
      "cell_type": "code",
      "execution_count": 45,
      "metadata": {
        "id": "a1tXiNBZURsM"
      },
      "outputs": [
        {
          "name": "stdout",
          "output_type": "stream",
          "text": [
            "INFO:tensorflow:Assets written to: Alternate_model_A1\\assets\n"
          ]
        }
      ],
      "source": [
        "# Set the file path for the first alternative model\n",
        "file_path = \"Alternate_model_A1\"\n",
        "\n",
        "# Export your model to a HDF5 file\n",
        "nn_A1.save(file_path)\n"
      ]
    },
    {
      "cell_type": "code",
      "execution_count": 46,
      "metadata": {
        "id": "W9KTZW35URsM"
      },
      "outputs": [
        {
          "name": "stdout",
          "output_type": "stream",
          "text": [
            "INFO:tensorflow:Assets written to: Alternate_model_A2\\assets\n"
          ]
        }
      ],
      "source": [
        "# Set the file path for the second alternative model\n",
        "file_path = \"Alternate_model_A2\"\n",
        "\n",
        "# Export your model to a HDF5 file\n",
        "nn_A2.save(file_path)\n"
      ]
    },
    {
      "cell_type": "code",
      "execution_count": null,
      "metadata": {
        "id": "IiQ2lyQuURsM"
      },
      "outputs": [],
      "source": []
    }
  ],
  "metadata": {
    "colab": {
      "name": "venture_funding_with_deep_learning.ipynb",
      "provenance": []
    },
    "interpreter": {
      "hash": "2f3fd964406406b39bacddcc4d8d927d2d545c0de72a2b7b1d3c62308b776e1c"
    },
    "kernelspec": {
      "display_name": "Python 3.7.11 ('dev')",
      "language": "python",
      "name": "python3"
    },
    "language_info": {
      "codemirror_mode": {
        "name": "ipython",
        "version": 3
      },
      "file_extension": ".py",
      "mimetype": "text/x-python",
      "name": "python",
      "nbconvert_exporter": "python",
      "pygments_lexer": "ipython3",
      "version": "3.7.11"
    }
  },
  "nbformat": 4,
  "nbformat_minor": 0
}
